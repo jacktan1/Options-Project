{
 "cells": [
  {
   "cell_type": "markdown",
   "metadata": {
    "collapsed": true,
    "pycharm": {
     "name": "#%% md\n"
    }
   },
   "source": [
    "### Deriving Greeks from option spreads\n",
    "Imports data from `adjusted_options` although raw data works fine as well"
   ]
  },
  {
   "cell_type": "code",
   "execution_count": 1,
   "outputs": [],
   "source": [
    "import datetime\n",
    "import os\n",
    "import numpy as np\n",
    "import pandas as pd\n",
    "import plotly.graph_objects as go\n",
    "from plotly.subplots import make_subplots\n",
    "import multiprocessing\n",
    "from multiprocessing.pool import Pool\n",
    "from pathlib import Path\n",
    "\n",
    "if os.getcwd()[-3:] == \"src\":\n",
    "    os.chdir(os.path.dirname(os.getcwd()))\n",
    "else:\n",
    "    pass"
   ],
   "metadata": {
    "collapsed": false,
    "pycharm": {
     "name": "#%%\n"
    }
   }
  },
  {
   "cell_type": "markdown",
   "source": [
    "**User defined parameters**"
   ],
   "metadata": {
    "collapsed": false
   }
  },
  {
   "cell_type": "code",
   "execution_count": 2,
   "outputs": [],
   "source": [
    "stock_of_interest = \"AAPL\"\n",
    "option_data_path = \"data/adjusted_options/\"\n",
    "default_save_path = \"data/greeks/\""
   ],
   "metadata": {
    "collapsed": false,
    "pycharm": {
     "name": "#%%\n"
    }
   }
  },
  {
   "cell_type": "markdown",
   "source": [
    "**Load adjusted options data**"
   ],
   "metadata": {
    "collapsed": false
   }
  },
  {
   "cell_type": "code",
   "execution_count": 3,
   "outputs": [],
   "source": [
    "try:\n",
    "    options_df = pd.read_csv(os.path.abspath(os.path.join(option_data_path, (stock_of_interest + \".csv\"))))\n",
    "    options_df[\"date\"] = pd.to_datetime(options_df[\"date\"]).dt.date\n",
    "    options_df[\"expiration date\"] = pd.to_datetime(options_df[\"expiration date\"]).dt.date\n",
    "except FileNotFoundError:\n",
    "    raise SystemExit(\"Option data for \" + stock_of_interest + \" not found in path: \" +\n",
    "                     os.path.abspath(os.path.join(option_data_path, stock_of_interest)) + \".csv\")"
   ],
   "metadata": {
    "collapsed": false,
    "pycharm": {
     "name": "#%%\n"
    }
   }
  },
  {
   "cell_type": "code",
   "execution_count": 4,
   "outputs": [],
   "source": [
    "call_options = options_df[options_df[\"type\"] == \"call\"]\n"
   ],
   "metadata": {
    "collapsed": false,
    "pycharm": {
     "name": "#%%\n"
    }
   }
  },
  {
   "cell_type": "markdown",
   "source": [
    "Delta ($\\Delta$) at a certain strike price (K) is calculated based off the forward and backward change in strike price. For example, for K=20, the delta at K=19.5 is calculated by taking the slope between K=19 and K=20. Likewise, Delta at K=20.5 is based off ask/bid prices at K=20 and K=21.\n",
    "\n",
    "Note that the assumption of midpoint is built upon the existence of a monotonic Delta function, which is realistic. For example, the Delta of long calls should decrease from 1 (very ITM) to 0 (very OTM).\n",
    "\n",
    "The same logic is applied for calculating Gamma ($\\Gamma$).\n",
    "\n",
    "Since calculated Delta and Gamma values are midpoints between their respective strike prices, the greek values for the original option strikes are **linearly** interpolated.\n",
    "\n",
    "A function of Delta and Gamma at different strike prices is dependent on the price of the underlying, and shifts horizontally accordingly. Using the amount by which the option is ITM or OTM (dividend adjusted), we create a new feature measuring the difference between closing price and strike price (`adj_close - adj_strike`).\n",
    "    - POSITIVE -> ITM\n",
    "    - NEGATIVE -> OTM"
   ],
   "metadata": {
    "collapsed": false,
    "pycharm": {
     "name": "#%% md\n"
    }
   }
  },
  {
   "cell_type": "code",
   "execution_count": 5,
   "outputs": [],
   "source": [
    "def calc_delta_gamma(input_df):\n",
    "    # Calculating Delta\n",
    "    temp_delta_df = input_df[[\"strike price\", \"ask price\", \"bid price\"]].diff()[1:].reset_index(drop=True)\n",
    "    temp_delta_df = temp_delta_df.rename(columns={\"strike price\": \"asset change\",\n",
    "                                                  \"ask price\": \"ask change\",\n",
    "                                                  \"bid price\": \"bid change\"})\n",
    "    # Change in asset price is negative of change in  strike price\n",
    "    temp_delta_df[\"asset change\"] = -temp_delta_df[\"asset change\"]\n",
    "    # Strike price for delta to be midpoint between the two options\n",
    "    temp_delta_df[\"strike price\"] = (input_df[\"strike price\"][:-1].reset_index(drop=True) +\n",
    "                                     input_df[\"strike price\"][1:].reset_index(drop=True)) / 2\n",
    "    temp_delta_df[\"ask\"] = temp_delta_df[\"ask change\"] / (temp_delta_df[\"asset change\"])\n",
    "    temp_delta_df[\"bid\"] = temp_delta_df[\"bid change\"] / (temp_delta_df[\"asset change\"])\n",
    "    # Add type\n",
    "    temp_delta_df[\"type\"] = \"slope midpoint\"\n",
    "\n",
    "    # Calculating Gamma\n",
    "    temp_gamma_df = temp_delta_df[[\"strike price\", \"ask\", \"bid\"]].diff()[1:].reset_index(\n",
    "        drop=True)\n",
    "    temp_gamma_df = temp_gamma_df.rename(columns={\"strike price\": \"asset change\",\n",
    "                                                  \"ask\": \"ask change\",\n",
    "                                                  \"bid\": \"bid change\"})\n",
    "    temp_gamma_df[\"asset change\"] = -temp_gamma_df[\"asset change\"]\n",
    "    temp_gamma_df[\"strike price\"] = (temp_delta_df[\"strike price\"][:-1].reset_index(drop=True) +\n",
    "                                     temp_delta_df[\"strike price\"][1:].reset_index(drop=True)) / 2\n",
    "    temp_gamma_df[\"ask\"] = temp_gamma_df[\"ask change\"] / temp_gamma_df[\"asset change\"]\n",
    "    temp_gamma_df[\"bid\"] = temp_gamma_df[\"bid change\"] / temp_gamma_df[\"asset change\"]\n",
    "    # Add type\n",
    "    temp_gamma_df[\"type\"] = \"slope midpoint\"\n",
    "\n",
    "    # Add on strike prices of actual options\n",
    "    temp_delta_df = temp_delta_df.merge(input_df[[\"strike price\"]],\n",
    "                                        how=\"outer\",\n",
    "                                        on=[\"strike price\"])\n",
    "    temp_gamma_df = temp_gamma_df.merge(input_df[[\"strike price\"]],\n",
    "                                        how=\"outer\",\n",
    "                                        on=[\"strike price\"])\n",
    "\n",
    "    # Sort order of rows, ignore_index re-indexes for loop below\n",
    "    temp_delta_df.sort_values(by=[\"strike price\"],\n",
    "                              inplace=True, ignore_index=True)\n",
    "    temp_gamma_df.sort_values(by=[\"strike price\"],\n",
    "                              inplace=True, ignore_index=True)\n",
    "\n",
    "    for temp_df in [temp_delta_df, temp_gamma_df]:\n",
    "        # Estimate missing delta/gamma of actual options\n",
    "        # Special cases\n",
    "        if np.isnan(temp_df.loc[0, \"ask\"]):\n",
    "            # Find FIRST entry available\n",
    "            temp_df.loc[0, \"type\"] = \"interpolation\"\n",
    "            completed_temp_df = temp_df[-np.isnan(temp_df[\"ask\"])].reset_index(drop=True)\n",
    "            temp_df.loc[0, [\"ask\", \"bid\"]] = completed_temp_df.loc[0, [\"ask\", \"bid\"]]\n",
    "        if np.isnan(temp_df.loc[temp_df.shape[0] - 1, \"ask\"]):\n",
    "            # Find LAST entry available\n",
    "            temp_df.loc[temp_df.shape[0] - 1, \"type\"] = \"interpolation\"\n",
    "            completed_temp_df = temp_df[-np.isnan(temp_df[\"ask\"])].reset_index(drop=True)\n",
    "            temp_df.loc[temp_df.shape[0] - 1, [\"ask\", \"bid\"]] = completed_temp_df.loc[\n",
    "                completed_temp_df.index[-1], [\"ask\", \"bid\"]]\n",
    "        # Everything in the middle\n",
    "        for n in range(temp_df.shape[0]):\n",
    "            if not np.isnan(temp_df.loc[n, \"ask\"]):\n",
    "                continue\n",
    "            else:\n",
    "                temp_df.loc[n, \"type\"] = \"interpolation\"\n",
    "                # Find the next entry that is not NaN\n",
    "                forward_shift = 1\n",
    "                while np.isnan(temp_df.loc[n + forward_shift, \"ask\"]):\n",
    "                    forward_shift += 1\n",
    "                prev_distance = float(temp_df.loc[n, \"strike price\"] -\n",
    "                                      temp_df.loc[n - 1, \"strike price\"])\n",
    "                next_distance = float(temp_df.loc[n + forward_shift, \"strike price\"] -\n",
    "                                      temp_df.loc[n, \"strike price\"])\n",
    "                temp_df.loc[n, [\"ask\", \"bid\"]] = (((next_distance / (prev_distance + next_distance)) *\n",
    "                                                   temp_df.loc[n - 1, [\"ask\", \"bid\"]]) +\n",
    "                                                  ((prev_distance / (prev_distance + next_distance)) *\n",
    "                                                   temp_df.loc[n + forward_shift, [\"ask\", \"bid\"]]))\n",
    "        # Add dates\n",
    "        temp_df[[\"date\", \"expiration date\"]] = [np.unique(input_df[\"date\"])[0],\n",
    "                                                np.unique(input_df[\"expiration date\"])[0]]\n",
    "        # Amount by which options are ITM or OTM (div adjusted)\n",
    "        temp_df[\"adj_close - adj_strike\"] = ((np.unique(input_df[\"closing price\"])[0] -\n",
    "                                              np.unique(input_df[\"date div\"])[0]) -\n",
    "                                             (temp_df[\"strike price\"] -\n",
    "                                              np.unique(input_df[\"exp date div\"])[0]))\n",
    "        # Drop intermediate columns\n",
    "        temp_df.drop([\"asset change\", \"ask change\", \"bid change\"], axis=1, inplace=True)\n",
    "\n",
    "    return [temp_delta_df, temp_gamma_df]"
   ],
   "metadata": {
    "collapsed": false,
    "pycharm": {
     "name": "#%%\n"
    }
   }
  },
  {
   "cell_type": "code",
   "execution_count": null,
   "outputs": [
    {
     "name": "stdout",
     "output_type": "stream",
     "text": [
      "done creating input list!\n"
     ]
    }
   ],
   "source": [
    "my_pool = Pool(multiprocessing.cpu_count())\n",
    "delta_df = pd.DataFrame()\n",
    "gamma_df = pd.DataFrame()\n",
    "input_list = list()\n",
    "delta_list = list()\n",
    "gamma_list = list()\n",
    "\n",
    "for my_day in set(call_options[\"date\"]):\n",
    "    day_df = call_options[call_options[\"date\"] == my_day]\n",
    "    exp_dates = set(day_df[\"expiration date\"])\n",
    "    for exp_day in exp_dates:\n",
    "        input_list.append(day_df[day_df[\"expiration date\"] == exp_day])\n",
    "print(\"done creating input list!\")\n",
    "\n",
    "pool_results = my_pool.map(calc_delta_gamma, input_list)\n",
    "print(\"done calculating delta and gamma values!\")\n",
    "\n",
    "# Sort data into lists\n",
    "for n in range(len(pool_results)):\n",
    "    delta_list.append(pool_results[n][0])\n",
    "    gamma_list.append(pool_results[n][1])\n",
    "\n",
    "# Concat lists\n",
    "delta_df = pd.concat(delta_list)\n",
    "gamma_df = pd.concat(gamma_list)\n",
    "\n",
    "# Rearrange column order\n",
    "delta_df = delta_df[[\"date\", \"expiration date\", \"strike price\",\n",
    "                     \"adj_close - adj_strike\", \"ask\", \"bid\", \"type\"]]\n",
    "gamma_df = gamma_df[[\"date\", \"expiration date\", \"strike price\",\n",
    "                     \"adj_close - adj_strike\", \"ask\", \"bid\", \"type\"]]\n",
    "\n",
    "delta_df.sort_values(by=[\"date\", \"expiration date\"],\n",
    "                     inplace=True, ignore_index=True)\n",
    "\n",
    "gamma_df.sort_values(by=[\"date\", \"expiration date\"],\n",
    "                     inplace=True, ignore_index=True)\n",
    "\n",
    "print(\"cleaned and appended results!\")"
   ],
   "metadata": {
    "collapsed": false,
    "pycharm": {
     "name": "#%%\n",
     "is_executing": true
    }
   }
  },
  {
   "cell_type": "code",
   "execution_count": null,
   "outputs": [],
   "source": [
    "print(\"Delta\")\n",
    "print(delta_df.head())\n",
    "print(\"Gamma\")\n",
    "print(gamma_df.head())"
   ],
   "metadata": {
    "collapsed": false,
    "pycharm": {
     "name": "#%%\n",
     "is_executing": true
    }
   }
  },
  {
   "cell_type": "markdown",
   "source": [
    "Visualization of Delta and Gamma values for a specific date and expiration date."
   ],
   "metadata": {
    "collapsed": false,
    "pycharm": {
     "name": "#%% md\n"
    }
   }
  },
  {
   "cell_type": "code",
   "source": [
    "plot_date = datetime.date(2016, 1, 4)\n",
    "plot_exp_date = datetime.date(2016, 1, 15)\n",
    "\n",
    "viz_delta_df = delta_df[(delta_df[\"date\"] == plot_date) &\n",
    "                        (delta_df[\"expiration date\"] == plot_exp_date)]\n",
    "\n",
    "viz_gamma_df = gamma_df[(gamma_df[\"date\"] == plot_date) &\n",
    "                        (gamma_df[\"expiration date\"] == plot_exp_date)]\n",
    "\n",
    "if not viz_delta_df.shape[0]:\n",
    "    raise Exception(\"Date and/or expiration date combo not valid!\")\n",
    "\n",
    "dg_fig = make_subplots(rows=2, cols=1,\n",
    "                       subplot_titles=[\"Delta vs (closing - strike)\", \"Gamma vs (closing - strike)\"])\n",
    "\n",
    "for n in [viz_delta_df, viz_gamma_df]:\n",
    "    if n.shape[0] == viz_delta_df.shape[0]:\n",
    "        nrow = 1\n",
    "    else:\n",
    "        nrow = 2\n",
    "\n",
    "    dg_fig.add_trace(go.Scatter(x=n[\"adj_close - adj_strike\"],\n",
    "                                y=n[\"ask\"],\n",
    "                                mode='lines+markers',\n",
    "                                opacity=1,\n",
    "                                marker_color=\"red\",\n",
    "                                name=\"Ask\"),\n",
    "                     row=nrow, col=1)\n",
    "\n",
    "    dg_fig.add_trace(go.Scatter(x=n[\"adj_close - adj_strike\"],\n",
    "                                y=n[\"bid\"],\n",
    "                                mode='lines+markers',\n",
    "                                opacity=0.6,\n",
    "                                marker_color=\"blue\",\n",
    "                                name=\"Bid\"),\n",
    "                     row=nrow, col=1)\n",
    "\n",
    "dg_fig.update_xaxes(title_text=\"Adjusted Closing - Adjusted Strike ($)\")\n",
    "dg_fig.update_yaxes(title_text=\"Delta\", row=1)\n",
    "dg_fig.update_yaxes(title_text=\"Gamma\", row=2)\n",
    "dg_fig.show(\"svg\", width=700, height=800)"
   ],
   "metadata": {
    "collapsed": false,
    "pycharm": {
     "name": "#%%\n",
     "is_executing": true
    }
   },
   "execution_count": null,
   "outputs": []
  },
  {
   "cell_type": "markdown",
   "source": [
    "**Export data**"
   ],
   "metadata": {
    "collapsed": false,
    "pycharm": {
     "name": "#%% md\n"
    }
   }
  },
  {
   "cell_type": "code",
   "execution_count": null,
   "outputs": [],
   "source": [
    "Path(default_save_path).mkdir(exist_ok=True)\n",
    "\n",
    "delta_df.to_csv(path_or_buf=f\"{default_save_path}{stock_of_interest}_calls_delta.csv\", index=False)\n",
    "gamma_df.to_csv(path_or_buf=f\"{default_save_path}{stock_of_interest}_calls_gamma.csv\", index=False)\n"
   ],
   "metadata": {
    "collapsed": false,
    "pycharm": {
     "name": "#%%\n",
     "is_executing": true
    }
   }
  }
 ],
 "metadata": {
  "kernelspec": {
   "display_name": "Python 3",
   "language": "python",
   "name": "python3"
  },
  "language_info": {
   "codemirror_mode": {
    "name": "ipython",
    "version": 2
   },
   "file_extension": ".py",
   "mimetype": "text/x-python",
   "name": "python",
   "nbconvert_exporter": "python",
   "pygments_lexer": "ipython2",
   "version": "2.7.6"
  }
 },
 "nbformat": 4,
 "nbformat_minor": 0
}