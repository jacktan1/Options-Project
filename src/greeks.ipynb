{
 "cells": [
  {
   "cell_type": "markdown",
   "metadata": {
    "collapsed": true,
    "pycharm": {
     "name": "#%% md\n"
    }
   },
   "source": [
    "### Deriving Greeks from option spreads\n",
    "Imports data from `adjusted_options` although raw data works fine as well"
   ]
  },
  {
   "cell_type": "code",
   "execution_count": 1,
   "outputs": [],
   "source": [
    "import os\n",
    "import numpy as np\n",
    "import pandas as pd\n",
    "\n",
    "if os.getcwd()[-3:] == \"src\":\n",
    "    os.chdir(os.path.dirname(os.getcwd()))\n",
    "else:\n",
    "    pass"
   ],
   "metadata": {
    "collapsed": false,
    "pycharm": {
     "name": "#%%\n"
    }
   }
  },
  {
   "cell_type": "markdown",
   "source": [
    "**User defined parameters**"
   ],
   "metadata": {
    "collapsed": false
   }
  },
  {
   "cell_type": "code",
   "execution_count": 2,
   "outputs": [],
   "source": [
    "stock_of_interest = \"AAPL\"\n",
    "option_data_path = \"data/adjusted_options/\"\n",
    "default_save_path = \"data/adjusted_options/\""
   ],
   "metadata": {
    "collapsed": false,
    "pycharm": {
     "name": "#%%\n"
    }
   }
  },
  {
   "cell_type": "markdown",
   "source": [
    "**Load adjusted options data**"
   ],
   "metadata": {
    "collapsed": false
   }
  },
  {
   "cell_type": "code",
   "execution_count": 3,
   "outputs": [],
   "source": [
    "try:\n",
    "    options_df = pd.read_csv(os.path.abspath(os.path.join(option_data_path, (stock_of_interest + \".csv\"))))\n",
    "    options_df[\"date\"] = pd.to_datetime(options_df[\"date\"]).dt.date\n",
    "    options_df[\"expiration date\"] = pd.to_datetime(options_df[\"expiration date\"]).dt.date\n",
    "except FileNotFoundError:\n",
    "    raise SystemExit(\"Option data for \" + stock_of_interest + \" not found in path: \" +\n",
    "                     os.path.abspath(os.path.join(option_data_path, stock_of_interest)) + \".csv\")"
   ],
   "metadata": {
    "collapsed": false,
    "pycharm": {
     "name": "#%%\n"
    }
   }
  },
  {
   "cell_type": "code",
   "execution_count": 4,
   "outputs": [],
   "source": [
    "call_options = options_df[options_df[\"type\"] == \"call\"]\n"
   ],
   "metadata": {
    "collapsed": false,
    "pycharm": {
     "name": "#%%\n"
    }
   }
  },
  {
   "cell_type": "markdown",
   "source": [
    "Delta ($\\Delta$) at a certain strike price (K) is calculated based off the forward and backward change in strike price. For example, for K=20, the delta at K=19.5 is calculated by taking the slope between K=19 and K=20. Likewise, Delta at K=20.5 is based off ask/bid prices at K=20 and K=21.\n",
    "\n",
    "Note that the assumption of midpoint is built upon the existence of a monotonic Delta function, which is realistic. For example, the Delta of long calls should decrease from 1 (very ITM) to 0 (very OTM)."
   ],
   "metadata": {
    "collapsed": false,
    "pycharm": {
     "name": "#%% md\n"
    }
   }
  },
  {
   "cell_type": "code",
   "execution_count": null,
   "outputs": [],
   "source": [
    "dates = set(call_options[\"date\"])\n",
    "\n",
    "for my_day in dates:\n",
    "    day_options = call_options[call_options[\"date\"] == my_day]\n",
    "    exp_dates = set(day_options[\"expiration date\"])\n",
    "    for exp_day in exp_dates:\n",
    "        exp_day_options = day_options[day_options[\"expiration date\"] == exp_day]\n",
    "        ask_delta_df = exp_day_options[[\"strike price\", \"ask price\"]].reset_index(drop=True) - \\\n",
    "                       exp_day_options[[\"strike price\", \"ask price\"]][1:].reset_index(drop=True)\n",
    "        ask_delta_df = ask_delta_df.rename(columns={\"strike price\": \"d_strike\",\"ask price\": \"d_ask\"})\n",
    "        ask_delta_df[\"avg strike\"] = (exp_day_options[\"strike price\"].reset_index(drop=True) + \\\n",
    "                                     exp_day_options[\"strike price\"][1:].reset_index(drop=True)) / 2\n",
    "\n",
    "        ask_delta_df[\"delta\"] = ask_delta_df[\"d_ask\"] / (-ask_delta_df[\"d_strike\"])\n",
    "\n",
    "        print(\"stop\")"
   ],
   "metadata": {
    "collapsed": false,
    "pycharm": {
     "name": "#%%\n",
     "is_executing": true
    }
   }
  },
  {
   "cell_type": "markdown",
   "source": [],
   "metadata": {
    "collapsed": false,
    "pycharm": {
     "name": "#%% md"
    }
   }
  }
 ],
 "metadata": {
  "kernelspec": {
   "display_name": "Python 3",
   "language": "python",
   "name": "python3"
  },
  "language_info": {
   "codemirror_mode": {
    "name": "ipython",
    "version": 2
   },
   "file_extension": ".py",
   "mimetype": "text/x-python",
   "name": "python",
   "nbconvert_exporter": "python",
   "pygments_lexer": "ipython2",
   "version": "2.7.6"
  }
 },
 "nbformat": 4,
 "nbformat_minor": 0
}