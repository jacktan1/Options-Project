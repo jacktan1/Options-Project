{
 "cells": [
  {
   "cell_type": "markdown",
   "source": [
    "## Import features"
   ],
   "metadata": {
    "collapsed": false
   }
  },
  {
   "cell_type": "code",
   "execution_count": 1,
   "metadata": {
    "collapsed": true
   },
   "outputs": [],
   "source": [
    "import os\n",
    "import time\n",
    "import xgboost as xgb\n",
    "\n",
    "# Ensure working directory path is correct\n",
    "import pandas as pd\n",
    "\n",
    "while os.path.split(os.getcwd())[-1] != \"Options-Project\":\n",
    "    os.chdir(os.path.dirname(os.getcwd()))"
   ]
  },
  {
   "cell_type": "markdown",
   "source": [
    "### Variables"
   ],
   "metadata": {
    "collapsed": false
   }
  },
  {
   "cell_type": "code",
   "execution_count": 2,
   "outputs": [],
   "source": [
    "ticker = \"AAPL\"\n",
    "model_params_path = \"data/model_params/\""
   ],
   "metadata": {
    "collapsed": false,
    "pycharm": {
     "name": "#%%\n"
    }
   }
  },
  {
   "cell_type": "markdown",
   "source": [
    "### Load"
   ],
   "metadata": {
    "collapsed": false
   }
  },
  {
   "cell_type": "code",
   "execution_count": 7,
   "outputs": [
    {
     "name": "stdout",
     "output_type": "stream",
     "text": [
      "Load model parameters - 0.22 seconds\n"
     ]
    }
   ],
   "source": [
    "start_time = time.time()\n",
    "\n",
    "model_params = dict()\n",
    "\n",
    "for param_type in next(os.walk(model_params_path))[1]:\n",
    "\n",
    "    param_path = os.path.join(model_params_path, param_type, ticker)\n",
    "    param_list = []\n",
    "\n",
    "    # Sanity check\n",
    "    assert os.path.isdir(param_path), f\"Can't find model parameters for {ticker}!\"\n",
    "\n",
    "    for file_year in os.listdir(param_path):\n",
    "        if file_year.split(\"_\")[-1] == \"param.csv\":\n",
    "            df = pd.read_csv(os.path.join(param_path, file_year))\n",
    "\n",
    "            # Convert columns to correct format\n",
    "            df[\"date\"] = pd.to_datetime(df[\"date\"]).dt.date\n",
    "\n",
    "            if \"interval\" in df.columns:\n",
    "                df[\"interval\"] = df[\"interval\"].astype(str)\n",
    "\n",
    "            param_list.append(df)\n",
    "\n",
    "    # Concat & add to model params\n",
    "    if param_list:\n",
    "        df = pd.concat(param_list, ignore_index=True)\n",
    "        df.sort_values(by=[\"date\", \"tag\"], inplace=True)\n",
    "        model_params[param_type] = df\n",
    "\n",
    "print(f\"Load model parameters - {round(time.time() - start_time, 2)} seconds\")"
   ],
   "metadata": {
    "collapsed": false,
    "pycharm": {
     "name": "#%%\n"
    }
   }
  },
  {
   "cell_type": "markdown",
   "source": [
    "### Pivot and combine model parameters to 1 row per day"
   ],
   "metadata": {
    "collapsed": false
   }
  },
  {
   "cell_type": "code",
   "execution_count": 8,
   "outputs": [],
   "source": [
    "param_df = pd.DataFrame(columns=[\"date\"])\n",
    "\n",
    "for param_type in model_params.keys():\n",
    "\n",
    "    if param_type == \"custom\":\n",
    "        pivot_cols = [\"tag\"]\n",
    "    else:\n",
    "        pivot_cols = [\"tag\", \"interval\"]\n",
    "\n",
    "    df = model_params[param_type].pivot(index = \"date\", columns = pivot_cols)\n",
    "\n",
    "    # Flatten column levels\n",
    "    df.columns = [\"-\".join(col) for col in df.columns.values]\n",
    "\n",
    "    # Update param dict\n",
    "    model_params[param_type] = df.reset_index()\n",
    "\n",
    "    # Add to all params\n",
    "    param_df = param_df.merge(df, on=\"date\", how=\"outer\")"
   ],
   "metadata": {
    "collapsed": false,
    "pycharm": {
     "name": "#%%\n"
    }
   }
  },
  {
   "cell_type": "code",
   "execution_count": 11,
   "outputs": [
    {
     "name": "stdout",
     "output_type": "stream",
     "text": [
      "Total days: 4273\n",
      "Days without missing data: 3740\n"
     ]
    }
   ],
   "source": [
    "print(f\"Total days: {param_df.shape[0]}\")\n",
    "print(f\"Days without missing data: {param_df.dropna().shape[0]}\")"
   ],
   "metadata": {
    "collapsed": false,
    "pycharm": {
     "name": "#%%\n"
    }
   }
  },
  {
   "cell_type": "markdown",
   "source": [
    "### XGBoost"
   ],
   "metadata": {
    "collapsed": false
   }
  },
  {
   "cell_type": "code",
   "execution_count": null,
   "outputs": [],
   "source": [],
   "metadata": {
    "collapsed": false,
    "pycharm": {
     "name": "#%%\n"
    }
   }
  }
 ],
 "metadata": {
  "kernelspec": {
   "display_name": "Python 3",
   "language": "python",
   "name": "python3"
  },
  "language_info": {
   "codemirror_mode": {
    "name": "ipython",
    "version": 2
   },
   "file_extension": ".py",
   "mimetype": "text/x-python",
   "name": "python",
   "nbconvert_exporter": "python",
   "pygments_lexer": "ipython2",
   "version": "2.7.6"
  }
 },
 "nbformat": 4,
 "nbformat_minor": 0
}