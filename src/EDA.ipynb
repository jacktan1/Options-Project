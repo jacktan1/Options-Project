{
 "cells": [
  {
   "cell_type": "markdown",
   "source": [
    "## Exploratory Data Analysis and Feature Engineering\n",
    "Here we work with adjusted options data from the `data/adjusted_options` directory. We aim to produce\n",
    "a novel technical indicator to be used for training of model"
   ],
   "metadata": {
    "collapsed": false
   }
  },
  {
   "cell_type": "markdown",
   "source": [
    "**Importing required packages & changing working directory**"
   ],
   "metadata": {
    "collapsed": false,
    "pycharm": {
     "name": "#%% md\n"
    }
   }
  },
  {
   "cell_type": "code",
   "execution_count": 61,
   "outputs": [],
   "source": [
    "import pandas as pd\n",
    "import numpy as np\n",
    "import plotly.graph_objects as go\n",
    "import os\n",
    "\n",
    "if os.getcwd()[-3:] == \"src\":\n",
    "    os.chdir(os.path.dirname(os.getcwd()))\n",
    "else:\n",
    "    pass"
   ],
   "metadata": {
    "collapsed": false,
    "pycharm": {
     "name": "#%%\n"
    }
   }
  },
  {
   "cell_type": "markdown",
   "source": [
    "**User defined parameters**"
   ],
   "metadata": {
    "collapsed": false
   }
  },
  {
   "cell_type": "code",
   "execution_count": 62,
   "outputs": [],
   "source": [
    "stock_of_interest = \"CVX\"\n",
    "option_data_path = \"data/adjusted_options/\"\n",
    "stock_data_path = \"data/adjusted_daily_closing/\"\n",
    "num_bars = 100\n"
   ],
   "metadata": {
    "collapsed": false,
    "pycharm": {
     "name": "#%%\n"
    }
   }
  },
  {
   "cell_type": "markdown",
   "source": [
    "**Load adjusted options data**\n"
   ],
   "metadata": {
    "collapsed": false
   }
  },
  {
   "cell_type": "code",
   "execution_count": 63,
   "outputs": [],
   "source": [
    "try:\n",
    "    options_df = pd.read_csv(os.path.abspath(os.path.join(option_data_path, stock_of_interest)) + \".csv\")\n",
    "    options_df[\"date\"] = pd.to_datetime(options_df[\"date\"]).dt.date\n",
    "    options_df[\"expiration date\"] = pd.to_datetime(options_df[\"expiration date\"]).dt.date\n",
    "except FileNotFoundError:\n",
    "    raise SystemExit(\"Option data for \" + stock_of_interest + \" not found in path: \" +\n",
    "                     os.path.abspath(os.path.join(option_data_path, stock_of_interest)) + \".csv\")\n"
   ],
   "metadata": {
    "collapsed": false,
    "pycharm": {
     "name": "#%%\n"
    }
   }
  },
  {
   "cell_type": "markdown",
   "source": [
    "First off, it is important to point out that we are only using `bid price` or `last price` as a measure of an option's value.\n",
    "This is because, we are focused on the selling of options, and `ask price` is an exaggerated representation of demand.\n",
    "\n",
    "Thus, we first remove options that neither have bid or last price, as we cannot determine demand. In addition, we will\n",
    "also remove options that have neither volume nor open interest. I made this decision because I believe that options\n",
    "that have no holders and liquidity is not representative of the market, as the `last price` may be outdated and\n",
    "`bid price` undervalued."
   ],
   "metadata": {
    "collapsed": false
   }
  },
  {
   "cell_type": "code",
   "execution_count": 64,
   "outputs": [
    {
     "data": {
      "text/plain": "          date expiration date  type  strike price  ask price  ask size  \\\n9   2016-01-04      2016-01-08   put          65.0       0.25     173.0   \n10  2016-01-04      2016-01-08  call          70.0      19.15      27.0   \n11  2016-01-04      2016-01-08   put          70.0       0.03      28.0   \n13  2016-01-04      2016-01-08   put          75.0       0.05     418.0   \n15  2016-01-04      2016-01-08   put          76.5       0.04     117.0   \n\n    bid price  bid size  last price  volume  open interest  closing price  \\\n9        0.00       0.0        0.01     0.0           13.0          88.85   \n10      17.45     344.0       10.83     0.0            1.0          88.85   \n11       0.00       0.0        0.04     0.0          173.0          88.85   \n13       0.01      36.0        0.02   162.0         1506.0          88.85   \n15       0.02      25.0        0.02   291.0           11.0          88.85   \n\n    exp date closing price  date div  exp date div  \n9                    82.13  0.578852      0.649016  \n10                   82.13  0.578852      0.649016  \n11                   82.13  0.578852      0.649016  \n13                   82.13  0.578852      0.649016  \n15                   82.13  0.578852      0.649016  ",
      "text/html": "<div>\n<style scoped>\n    .dataframe tbody tr th:only-of-type {\n        vertical-align: middle;\n    }\n\n    .dataframe tbody tr th {\n        vertical-align: top;\n    }\n\n    .dataframe thead th {\n        text-align: right;\n    }\n</style>\n<table border=\"1\" class=\"dataframe\">\n  <thead>\n    <tr style=\"text-align: right;\">\n      <th></th>\n      <th>date</th>\n      <th>expiration date</th>\n      <th>type</th>\n      <th>strike price</th>\n      <th>ask price</th>\n      <th>ask size</th>\n      <th>bid price</th>\n      <th>bid size</th>\n      <th>last price</th>\n      <th>volume</th>\n      <th>open interest</th>\n      <th>closing price</th>\n      <th>exp date closing price</th>\n      <th>date div</th>\n      <th>exp date div</th>\n    </tr>\n  </thead>\n  <tbody>\n    <tr>\n      <th>9</th>\n      <td>2016-01-04</td>\n      <td>2016-01-08</td>\n      <td>put</td>\n      <td>65.0</td>\n      <td>0.25</td>\n      <td>173.0</td>\n      <td>0.00</td>\n      <td>0.0</td>\n      <td>0.01</td>\n      <td>0.0</td>\n      <td>13.0</td>\n      <td>88.85</td>\n      <td>82.13</td>\n      <td>0.578852</td>\n      <td>0.649016</td>\n    </tr>\n    <tr>\n      <th>10</th>\n      <td>2016-01-04</td>\n      <td>2016-01-08</td>\n      <td>call</td>\n      <td>70.0</td>\n      <td>19.15</td>\n      <td>27.0</td>\n      <td>17.45</td>\n      <td>344.0</td>\n      <td>10.83</td>\n      <td>0.0</td>\n      <td>1.0</td>\n      <td>88.85</td>\n      <td>82.13</td>\n      <td>0.578852</td>\n      <td>0.649016</td>\n    </tr>\n    <tr>\n      <th>11</th>\n      <td>2016-01-04</td>\n      <td>2016-01-08</td>\n      <td>put</td>\n      <td>70.0</td>\n      <td>0.03</td>\n      <td>28.0</td>\n      <td>0.00</td>\n      <td>0.0</td>\n      <td>0.04</td>\n      <td>0.0</td>\n      <td>173.0</td>\n      <td>88.85</td>\n      <td>82.13</td>\n      <td>0.578852</td>\n      <td>0.649016</td>\n    </tr>\n    <tr>\n      <th>13</th>\n      <td>2016-01-04</td>\n      <td>2016-01-08</td>\n      <td>put</td>\n      <td>75.0</td>\n      <td>0.05</td>\n      <td>418.0</td>\n      <td>0.01</td>\n      <td>36.0</td>\n      <td>0.02</td>\n      <td>162.0</td>\n      <td>1506.0</td>\n      <td>88.85</td>\n      <td>82.13</td>\n      <td>0.578852</td>\n      <td>0.649016</td>\n    </tr>\n    <tr>\n      <th>15</th>\n      <td>2016-01-04</td>\n      <td>2016-01-08</td>\n      <td>put</td>\n      <td>76.5</td>\n      <td>0.04</td>\n      <td>117.0</td>\n      <td>0.02</td>\n      <td>25.0</td>\n      <td>0.02</td>\n      <td>291.0</td>\n      <td>11.0</td>\n      <td>88.85</td>\n      <td>82.13</td>\n      <td>0.578852</td>\n      <td>0.649016</td>\n    </tr>\n  </tbody>\n</table>\n</div>"
     },
     "execution_count": 64,
     "metadata": {},
     "output_type": "execute_result"
    }
   ],
   "source": [
    "options_df = options_df[(options_df[[\"bid price\", \"last price\"]].max(axis=1) > 0) &\n",
    "                        (options_df[[\"volume\", \"open interest\"]].max(axis=1) > 0)]\n",
    "options_df.head()"
   ],
   "metadata": {
    "collapsed": false,
    "pycharm": {
     "name": "#%%\n"
    }
   }
  },
  {
   "cell_type": "markdown",
   "source": [
    "Since the option strike price, closing price on current and expiration dates all contain priced in dividends,\n",
    "we will remove these with the pre-calculated dividend contributions. This is done in script `scrape_and_preprocess.py`."
   ],
   "metadata": {
    "collapsed": false
   }
  },
  {
   "cell_type": "code",
   "execution_count": 65,
   "outputs": [
    {
     "data": {
      "text/plain": "          date expiration date  type  strike price  ask price  ask size  \\\n9   2016-01-04      2016-01-08   put          65.0       0.25     173.0   \n10  2016-01-04      2016-01-08  call          70.0      19.15      27.0   \n11  2016-01-04      2016-01-08   put          70.0       0.03      28.0   \n13  2016-01-04      2016-01-08   put          75.0       0.05     418.0   \n15  2016-01-04      2016-01-08   put          76.5       0.04     117.0   \n\n    bid price  bid size  last price  volume  open interest  closing price  \\\n9        0.00       0.0        0.01     0.0           13.0          88.85   \n10      17.45     344.0       10.83     0.0            1.0          88.85   \n11       0.00       0.0        0.04     0.0          173.0          88.85   \n13       0.01      36.0        0.02   162.0         1506.0          88.85   \n15       0.02      25.0        0.02   291.0           11.0          88.85   \n\n    exp date closing price  adj closing  adj strike  adj exp closing  \\\n9                    82.13    88.271148   64.350984        81.480984   \n10                   82.13    88.271148   69.350984        81.480984   \n11                   82.13    88.271148   69.350984        81.480984   \n13                   82.13    88.271148   74.350984        81.480984   \n15                   82.13    88.271148   75.850984        81.480984   \n\n    days till exp  \n9               4  \n10              4  \n11              4  \n13              4  \n15              4  ",
      "text/html": "<div>\n<style scoped>\n    .dataframe tbody tr th:only-of-type {\n        vertical-align: middle;\n    }\n\n    .dataframe tbody tr th {\n        vertical-align: top;\n    }\n\n    .dataframe thead th {\n        text-align: right;\n    }\n</style>\n<table border=\"1\" class=\"dataframe\">\n  <thead>\n    <tr style=\"text-align: right;\">\n      <th></th>\n      <th>date</th>\n      <th>expiration date</th>\n      <th>type</th>\n      <th>strike price</th>\n      <th>ask price</th>\n      <th>ask size</th>\n      <th>bid price</th>\n      <th>bid size</th>\n      <th>last price</th>\n      <th>volume</th>\n      <th>open interest</th>\n      <th>closing price</th>\n      <th>exp date closing price</th>\n      <th>adj closing</th>\n      <th>adj strike</th>\n      <th>adj exp closing</th>\n      <th>days till exp</th>\n    </tr>\n  </thead>\n  <tbody>\n    <tr>\n      <th>9</th>\n      <td>2016-01-04</td>\n      <td>2016-01-08</td>\n      <td>put</td>\n      <td>65.0</td>\n      <td>0.25</td>\n      <td>173.0</td>\n      <td>0.00</td>\n      <td>0.0</td>\n      <td>0.01</td>\n      <td>0.0</td>\n      <td>13.0</td>\n      <td>88.85</td>\n      <td>82.13</td>\n      <td>88.271148</td>\n      <td>64.350984</td>\n      <td>81.480984</td>\n      <td>4</td>\n    </tr>\n    <tr>\n      <th>10</th>\n      <td>2016-01-04</td>\n      <td>2016-01-08</td>\n      <td>call</td>\n      <td>70.0</td>\n      <td>19.15</td>\n      <td>27.0</td>\n      <td>17.45</td>\n      <td>344.0</td>\n      <td>10.83</td>\n      <td>0.0</td>\n      <td>1.0</td>\n      <td>88.85</td>\n      <td>82.13</td>\n      <td>88.271148</td>\n      <td>69.350984</td>\n      <td>81.480984</td>\n      <td>4</td>\n    </tr>\n    <tr>\n      <th>11</th>\n      <td>2016-01-04</td>\n      <td>2016-01-08</td>\n      <td>put</td>\n      <td>70.0</td>\n      <td>0.03</td>\n      <td>28.0</td>\n      <td>0.00</td>\n      <td>0.0</td>\n      <td>0.04</td>\n      <td>0.0</td>\n      <td>173.0</td>\n      <td>88.85</td>\n      <td>82.13</td>\n      <td>88.271148</td>\n      <td>69.350984</td>\n      <td>81.480984</td>\n      <td>4</td>\n    </tr>\n    <tr>\n      <th>13</th>\n      <td>2016-01-04</td>\n      <td>2016-01-08</td>\n      <td>put</td>\n      <td>75.0</td>\n      <td>0.05</td>\n      <td>418.0</td>\n      <td>0.01</td>\n      <td>36.0</td>\n      <td>0.02</td>\n      <td>162.0</td>\n      <td>1506.0</td>\n      <td>88.85</td>\n      <td>82.13</td>\n      <td>88.271148</td>\n      <td>74.350984</td>\n      <td>81.480984</td>\n      <td>4</td>\n    </tr>\n    <tr>\n      <th>15</th>\n      <td>2016-01-04</td>\n      <td>2016-01-08</td>\n      <td>put</td>\n      <td>76.5</td>\n      <td>0.04</td>\n      <td>117.0</td>\n      <td>0.02</td>\n      <td>25.0</td>\n      <td>0.02</td>\n      <td>291.0</td>\n      <td>11.0</td>\n      <td>88.85</td>\n      <td>82.13</td>\n      <td>88.271148</td>\n      <td>75.850984</td>\n      <td>81.480984</td>\n      <td>4</td>\n    </tr>\n  </tbody>\n</table>\n</div>"
     },
     "execution_count": 65,
     "metadata": {},
     "output_type": "execute_result"
    }
   ],
   "source": [
    "options_df[\"adj closing\"] = options_df[\"closing price\"] - options_df[\"date div\"]\n",
    "options_df[\"adj strike\"] = options_df[\"strike price\"] - options_df[\"exp date div\"]\n",
    "options_df[\"adj exp closing\"] = options_df[\"exp date closing price\"] - options_df[\"exp date div\"]\n",
    "options_df[\"days till exp\"] = np.busday_count(begindates=options_df[\"date\"],\n",
    "                                              enddates=options_df[\"expiration date\"])\n",
    "options_df = options_df.drop(columns=[\"date div\", \"exp date div\"])\n",
    "\n",
    "options_df.head()"
   ],
   "metadata": {
    "collapsed": false,
    "pycharm": {
     "name": "#%%\n"
    }
   }
  },
  {
   "cell_type": "markdown",
   "source": [
    "*Definition:* Breakeven price - the price of a stock at expiry such that selling an option at the current bid/last price\n",
    "causes no gain or loss.\n",
    "    - Example: Say the current price of TSLA is $100. We sell a $90 call option for $15 expiring in one month. Therefore, the \"breakeven\" expiration price will be $105. If the price is higher, we lose, and vice versa.\n",
    "\n",
    "Since breakeven price for calls and puts are calculated differently, we first split into respective categories."
   ],
   "metadata": {
    "collapsed": false
   }
  },
  {
   "cell_type": "code",
   "execution_count": 66,
   "outputs": [],
   "source": [
    "calls_df = options_df[options_df[\"type\"] == \"call\"]\n",
    "puts_df = options_df[options_df[\"type\"] == \"put\"]"
   ],
   "metadata": {
    "collapsed": false,
    "pycharm": {
     "name": "#%%\n"
    }
   }
  },
  {
   "cell_type": "markdown",
   "source": [
    "Now comes the question of whether we should use the \"bid\" or \"last\" price for these options. Although not necessarily\n",
    "true, the following assumptions are made:\n",
    "    - If the volume of an option is not 0, then the \"last\" price is used, as it is often in between the bid and ask prices.\n",
    "    - If the volume is 0, then the \"bid\" price is used, as we are uncertain when the \"last\" price was most recently updated.\n",
    "    - In the case that \"bid\" is 0 (most likely due to inactivity of that option for that specific day), \"last\" price is used regardless of volume.\n",
    "\n",
    "Each of the call and put DataFrames are further split into ones where \"last price\"(lp) is used vs. \"bid price\"(bp)."
   ],
   "metadata": {
    "collapsed": false
   }
  },
  {
   "cell_type": "code",
   "execution_count": 67,
   "outputs": [],
   "source": [
    "calls_df_lp = calls_df[(calls_df[\"volume\"] > 0) | (calls_df[\"bid price\"] == 0)].copy()\n",
    "puts_df_lp = puts_df[(puts_df[\"volume\"] > 0) | (puts_df[\"bid price\"] == 0)].copy()\n",
    "\n",
    "calls_df_bp = calls_df[(calls_df[\"volume\"] == 0) & (calls_df[\"bid price\"] != 0)].copy()\n",
    "puts_df_bp = puts_df[(puts_df[\"volume\"] == 0) & (puts_df[\"bid price\"] != 0)].copy()"
   ],
   "metadata": {
    "collapsed": false,
    "pycharm": {
     "name": "#%%\n"
    }
   }
  },
  {
   "cell_type": "markdown",
   "source": [
    "**Calculate expiry date \"breakeven\" prices**"
   ],
   "metadata": {
    "collapsed": false
   }
  },
  {
   "cell_type": "code",
   "execution_count": 68,
   "outputs": [],
   "source": [
    "calls_df_lp[\"adj breakeven\"] = calls_df_lp[\"adj strike\"] + calls_df_lp[\"last price\"]\n",
    "calls_df_bp[\"adj breakeven\"] = calls_df_bp[\"adj strike\"] + calls_df_bp[\"bid price\"]\n",
    "\n",
    "puts_df_lp[\"adj breakeven\"] = puts_df_lp[\"adj strike\"] - puts_df_lp[\"last price\"]\n",
    "puts_df_bp[\"adj breakeven\"] = puts_df_bp[\"adj strike\"] - puts_df_bp[\"bid price\"]"
   ],
   "metadata": {
    "collapsed": false,
    "pycharm": {
     "name": "#%%\n"
    }
   }
  },
  {
   "cell_type": "markdown",
   "source": [
    "Re-assemble DataFrame"
   ],
   "metadata": {
    "collapsed": false
   }
  },
  {
   "cell_type": "code",
   "execution_count": 69,
   "outputs": [],
   "source": [
    "calls_df = calls_df_lp.append(calls_df_bp)\n",
    "puts_df = puts_df_lp.append(puts_df_bp)\n",
    "options_df = calls_df.append(puts_df).sort_values(by=[\"date\", \"expiration date\"]).reset_index(drop=True)"
   ],
   "metadata": {
    "collapsed": false,
    "pycharm": {
     "name": "#%%\n"
    }
   }
  },
  {
   "cell_type": "markdown",
   "source": [
    "For the first day of available data, we want to viszualize the spread in open interest of the stock."
   ],
   "metadata": {
    "collapsed": false,
    "pycharm": {
     "name": "#%% md\n"
    }
   }
  },
  {
   "cell_type": "code",
   "execution_count": 70,
   "outputs": [
    {
     "data": {
      "application/vnd.plotly.v1+json": {
       "config": {
        "plotlyServerURL": "https://plot.ly"
       },
       "data": [
        {
         "marker": {
          "color": "green"
         },
         "name": "Call",
         "type": "bar",
         "width": 0.5,
         "x": [
          86.02687639344262,
          87.06462918032787,
          88.10238196721312,
          89.14013475409836,
          90.1778875409836,
          91.21564032786885,
          92.25339311475409,
          93.29114590163934,
          94.32889868852459,
          95.36665147540984,
          96.40440426229509,
          97.44215704918032,
          98.47990983606557,
          99.51766262295082,
          100.55541540983606,
          101.59316819672131,
          102.63092098360656,
          103.66867377049181,
          104.70642655737706,
          105.74417934426229,
          106.78193213114754,
          107.81968491803279,
          108.85743770491803,
          109.89519049180328,
          110.93294327868853,
          111.97069606557378,
          113.00844885245903,
          114.04620163934426,
          115.08395442622951,
          116.12170721311476,
          117.15946,
          118.19721278688525,
          119.2349655737705,
          120.27271836065574,
          121.310471147541,
          122.34822393442623,
          123.38597672131148,
          124.42372950819673,
          125.46148229508196,
          126.49923508196721,
          127.53698786885246,
          128.5747406557377,
          129.61249344262296,
          130.65024622950818,
          131.68799901639346,
          132.72575180327868,
          133.76350459016393,
          134.80125737704918,
          135.83901016393443,
          136.87676295081968,
          137.91451573770493,
          138.95226852459018,
          139.9900213114754,
          141.02777409836068,
          142.0655268852459,
          143.10327967213115,
          144.1410324590164,
          145.17878524590165,
          146.2165380327869,
          147.25429081967212,
          148.2920436065574,
          149.32979639344262,
          150.36754918032787,
          151.40530196721312,
          152.44305475409837,
          153.48080754098362,
          154.51856032786887,
          155.55631311475412,
          156.59406590163934,
          157.63181868852462,
          158.66957147540984,
          159.7073242622951,
          160.74507704918034,
          161.7828298360656,
          162.82058262295084,
          163.85833540983606,
          164.89608819672134,
          165.93384098360656,
          166.9715937704918,
          168.00934655737706,
          169.0470993442623,
          170.08485213114756,
          171.1226049180328,
          172.16035770491806,
          173.19811049180328,
          174.23586327868856,
          175.27361606557378,
          176.31136885245903,
          177.34912163934428,
          178.38687442622953,
          179.42462721311477,
          180.46238,
          181.50013278688527,
          182.5378855737705,
          183.57563836065574,
          184.613391147541,
          185.65114393442624,
          186.6888967213115,
          187.72664950819674,
          188.764402295082
         ],
         "y": [
          94.0,
          724.0,
          13925.0,
          14231.0,
          9118.0,
          25780.0,
          6716.0,
          10634.0,
          24345.0,
          1924.0,
          14549.0,
          6303.0,
          503.0,
          21337.0,
          10581.0,
          2604.0,
          5005.0,
          156.0,
          13047.0,
          1802.0,
          9843.0,
          0.0,
          14088.0,
          2782.0,
          16871.0,
          0.0,
          44.0,
          16586.0,
          3176.0,
          0.0,
          47.0,
          0.0,
          11636.0,
          8949.0,
          53.0,
          0.0,
          0.0,
          9056.0,
          240.0,
          0.0,
          0.0,
          0.0,
          6295.0,
          46.0,
          0.0,
          0.0,
          2548.0,
          2736.0,
          0.0,
          0.0,
          0.0,
          2882.0,
          30.0,
          0.0,
          0.0,
          0.0,
          4260.0,
          0.0,
          0.0,
          0.0,
          0.0,
          1971.0,
          0.0,
          0.0,
          0.0,
          0.0,
          704.0,
          0.0,
          0.0,
          0.0,
          0.0,
          947.0,
          0.0,
          0.0,
          0.0,
          285.0,
          0.0,
          0.0,
          0.0,
          0.0,
          558.0,
          0.0,
          0.0,
          0.0,
          0.0,
          458.0,
          0.0,
          0.0,
          0.0,
          0.0,
          171.0,
          0.0,
          0.0,
          0.0,
          0.0,
          181.0,
          0.0,
          0.0,
          0.0,
          474.0
         ]
        },
        {
         "marker": {
          "color": "red"
         },
         "name": "Put",
         "type": "bar",
         "width": 0.5,
         "x": [
          39.049764918032785,
          39.55329475409836,
          40.056824590163934,
          40.56035442622951,
          41.06388426229508,
          41.56741409836066,
          42.070943934426225,
          42.5744737704918,
          43.078003606557374,
          43.58153344262295,
          44.08506327868852,
          44.5885931147541,
          45.09212295081967,
          45.595652786885246,
          46.09918262295082,
          46.602712459016395,
          47.10624229508197,
          47.60977213114754,
          48.11330196721311,
          48.616831803278686,
          49.12036163934426,
          49.623891475409835,
          50.12742131147541,
          50.63095114754098,
          51.13448098360656,
          51.63801081967213,
          52.1415406557377,
          52.64507049180328,
          53.14860032786885,
          53.65213016393442,
          54.15566,
          54.65918983606557,
          55.162719672131146,
          55.66624950819672,
          56.169779344262295,
          56.67330918032786,
          57.176839016393444,
          57.68036885245901,
          58.18389868852459,
          58.68742852459016,
          59.190958360655735,
          59.69448819672131,
          60.198018032786884,
          60.70154786885246,
          61.20507770491803,
          61.70860754098361,
          62.212137377049174,
          62.715667213114756,
          63.21919704918032,
          63.722726885245905,
          64.22625672131147,
          64.72978655737705,
          65.23331639344262,
          65.73684622950819,
          66.24037606557377,
          66.74390590163935,
          67.24743573770492,
          67.75096557377049,
          68.25449540983607,
          68.75802524590164,
          69.26155508196722,
          69.76508491803278,
          70.26861475409837,
          70.77214459016393,
          71.2756744262295,
          71.77920426229508,
          72.28273409836066,
          72.78626393442623,
          73.2897937704918,
          73.79332360655738,
          74.29685344262295,
          74.80038327868851,
          75.3039131147541,
          75.80744295081968,
          76.31097278688524,
          76.81450262295081,
          77.3180324590164,
          77.82156229508197,
          78.32509213114754,
          78.82862196721311,
          79.33215180327869,
          79.83568163934426,
          80.33921147540983,
          80.84274131147541,
          81.34627114754099,
          81.84980098360656,
          82.35333081967212,
          82.8568606557377,
          83.36039049180329,
          83.86392032786885,
          84.36745016393442,
          84.87098,
          85.37450983606557,
          85.87803967213114,
          86.38156950819672,
          86.8850993442623,
          87.38862918032787,
          87.89215901639344,
          88.39568885245902,
          88.89921868852458
         ],
         "y": [
          479.0,
          250.0,
          0.0,
          0.0,
          0.0,
          0.0,
          103.0,
          0.0,
          0.0,
          1172.0,
          416.0,
          1165.0,
          0.0,
          0.0,
          0.0,
          111.0,
          0.0,
          0.0,
          790.0,
          0.0,
          5227.0,
          412.0,
          128.0,
          0.0,
          66.0,
          0.0,
          0.0,
          7597.0,
          0.0,
          0.0,
          20376.0,
          541.0,
          0.0,
          0.0,
          0.0,
          0.0,
          2777.0,
          0.0,
          0.0,
          379.0,
          9004.0,
          76.0,
          0.0,
          0.0,
          3235.0,
          0.0,
          86.0,
          0.0,
          281.0,
          0.0,
          11177.0,
          639.0,
          6260.0,
          0.0,
          0.0,
          0.0,
          0.0,
          374.0,
          272.0,
          11159.0,
          12340.0,
          0.0,
          152.0,
          0.0,
          150.0,
          857.0,
          6159.0,
          0.0,
          7151.0,
          1540.0,
          12930.0,
          5151.0,
          2931.0,
          483.0,
          153.0,
          154.0,
          15472.0,
          164.0,
          4236.0,
          18451.0,
          776.0,
          4414.0,
          355.0,
          6092.0,
          11208.0,
          4724.0,
          1863.0,
          5388.0,
          32541.0,
          1640.0,
          1994.0,
          3347.0,
          10186.0,
          3645.0,
          42370.0,
          16904.0,
          12812.0,
          1214.0,
          554.0,
          8570.0
         ]
        }
       ],
       "layout": {
        "font": {
         "size": 15
        },
        "shapes": [
         {
          "line": {
           "color": "blue",
           "dash": "dot",
           "width": 2
          },
          "type": "line",
          "x0": 88.2711475409836,
          "x1": 88.2711475409836,
          "y0": 0,
          "y1": 42370.0
         }
        ],
        "template": {
         "data": {
          "bar": [
           {
            "error_x": {
             "color": "#2a3f5f"
            },
            "error_y": {
             "color": "#2a3f5f"
            },
            "marker": {
             "line": {
              "color": "#E5ECF6",
              "width": 0.5
             }
            },
            "type": "bar"
           }
          ],
          "barpolar": [
           {
            "marker": {
             "line": {
              "color": "#E5ECF6",
              "width": 0.5
             }
            },
            "type": "barpolar"
           }
          ],
          "carpet": [
           {
            "aaxis": {
             "endlinecolor": "#2a3f5f",
             "gridcolor": "white",
             "linecolor": "white",
             "minorgridcolor": "white",
             "startlinecolor": "#2a3f5f"
            },
            "baxis": {
             "endlinecolor": "#2a3f5f",
             "gridcolor": "white",
             "linecolor": "white",
             "minorgridcolor": "white",
             "startlinecolor": "#2a3f5f"
            },
            "type": "carpet"
           }
          ],
          "choropleth": [
           {
            "colorbar": {
             "outlinewidth": 0,
             "ticks": ""
            },
            "type": "choropleth"
           }
          ],
          "contour": [
           {
            "colorbar": {
             "outlinewidth": 0,
             "ticks": ""
            },
            "colorscale": [
             [
              0.0,
              "#0d0887"
             ],
             [
              0.1111111111111111,
              "#46039f"
             ],
             [
              0.2222222222222222,
              "#7201a8"
             ],
             [
              0.3333333333333333,
              "#9c179e"
             ],
             [
              0.4444444444444444,
              "#bd3786"
             ],
             [
              0.5555555555555556,
              "#d8576b"
             ],
             [
              0.6666666666666666,
              "#ed7953"
             ],
             [
              0.7777777777777778,
              "#fb9f3a"
             ],
             [
              0.8888888888888888,
              "#fdca26"
             ],
             [
              1.0,
              "#f0f921"
             ]
            ],
            "type": "contour"
           }
          ],
          "contourcarpet": [
           {
            "colorbar": {
             "outlinewidth": 0,
             "ticks": ""
            },
            "type": "contourcarpet"
           }
          ],
          "heatmap": [
           {
            "colorbar": {
             "outlinewidth": 0,
             "ticks": ""
            },
            "colorscale": [
             [
              0.0,
              "#0d0887"
             ],
             [
              0.1111111111111111,
              "#46039f"
             ],
             [
              0.2222222222222222,
              "#7201a8"
             ],
             [
              0.3333333333333333,
              "#9c179e"
             ],
             [
              0.4444444444444444,
              "#bd3786"
             ],
             [
              0.5555555555555556,
              "#d8576b"
             ],
             [
              0.6666666666666666,
              "#ed7953"
             ],
             [
              0.7777777777777778,
              "#fb9f3a"
             ],
             [
              0.8888888888888888,
              "#fdca26"
             ],
             [
              1.0,
              "#f0f921"
             ]
            ],
            "type": "heatmap"
           }
          ],
          "heatmapgl": [
           {
            "colorbar": {
             "outlinewidth": 0,
             "ticks": ""
            },
            "colorscale": [
             [
              0.0,
              "#0d0887"
             ],
             [
              0.1111111111111111,
              "#46039f"
             ],
             [
              0.2222222222222222,
              "#7201a8"
             ],
             [
              0.3333333333333333,
              "#9c179e"
             ],
             [
              0.4444444444444444,
              "#bd3786"
             ],
             [
              0.5555555555555556,
              "#d8576b"
             ],
             [
              0.6666666666666666,
              "#ed7953"
             ],
             [
              0.7777777777777778,
              "#fb9f3a"
             ],
             [
              0.8888888888888888,
              "#fdca26"
             ],
             [
              1.0,
              "#f0f921"
             ]
            ],
            "type": "heatmapgl"
           }
          ],
          "histogram": [
           {
            "marker": {
             "colorbar": {
              "outlinewidth": 0,
              "ticks": ""
             }
            },
            "type": "histogram"
           }
          ],
          "histogram2d": [
           {
            "colorbar": {
             "outlinewidth": 0,
             "ticks": ""
            },
            "colorscale": [
             [
              0.0,
              "#0d0887"
             ],
             [
              0.1111111111111111,
              "#46039f"
             ],
             [
              0.2222222222222222,
              "#7201a8"
             ],
             [
              0.3333333333333333,
              "#9c179e"
             ],
             [
              0.4444444444444444,
              "#bd3786"
             ],
             [
              0.5555555555555556,
              "#d8576b"
             ],
             [
              0.6666666666666666,
              "#ed7953"
             ],
             [
              0.7777777777777778,
              "#fb9f3a"
             ],
             [
              0.8888888888888888,
              "#fdca26"
             ],
             [
              1.0,
              "#f0f921"
             ]
            ],
            "type": "histogram2d"
           }
          ],
          "histogram2dcontour": [
           {
            "colorbar": {
             "outlinewidth": 0,
             "ticks": ""
            },
            "colorscale": [
             [
              0.0,
              "#0d0887"
             ],
             [
              0.1111111111111111,
              "#46039f"
             ],
             [
              0.2222222222222222,
              "#7201a8"
             ],
             [
              0.3333333333333333,
              "#9c179e"
             ],
             [
              0.4444444444444444,
              "#bd3786"
             ],
             [
              0.5555555555555556,
              "#d8576b"
             ],
             [
              0.6666666666666666,
              "#ed7953"
             ],
             [
              0.7777777777777778,
              "#fb9f3a"
             ],
             [
              0.8888888888888888,
              "#fdca26"
             ],
             [
              1.0,
              "#f0f921"
             ]
            ],
            "type": "histogram2dcontour"
           }
          ],
          "mesh3d": [
           {
            "colorbar": {
             "outlinewidth": 0,
             "ticks": ""
            },
            "type": "mesh3d"
           }
          ],
          "parcoords": [
           {
            "line": {
             "colorbar": {
              "outlinewidth": 0,
              "ticks": ""
             }
            },
            "type": "parcoords"
           }
          ],
          "pie": [
           {
            "automargin": true,
            "type": "pie"
           }
          ],
          "scatter": [
           {
            "marker": {
             "colorbar": {
              "outlinewidth": 0,
              "ticks": ""
             }
            },
            "type": "scatter"
           }
          ],
          "scatter3d": [
           {
            "line": {
             "colorbar": {
              "outlinewidth": 0,
              "ticks": ""
             }
            },
            "marker": {
             "colorbar": {
              "outlinewidth": 0,
              "ticks": ""
             }
            },
            "type": "scatter3d"
           }
          ],
          "scattercarpet": [
           {
            "marker": {
             "colorbar": {
              "outlinewidth": 0,
              "ticks": ""
             }
            },
            "type": "scattercarpet"
           }
          ],
          "scattergeo": [
           {
            "marker": {
             "colorbar": {
              "outlinewidth": 0,
              "ticks": ""
             }
            },
            "type": "scattergeo"
           }
          ],
          "scattergl": [
           {
            "marker": {
             "colorbar": {
              "outlinewidth": 0,
              "ticks": ""
             }
            },
            "type": "scattergl"
           }
          ],
          "scattermapbox": [
           {
            "marker": {
             "colorbar": {
              "outlinewidth": 0,
              "ticks": ""
             }
            },
            "type": "scattermapbox"
           }
          ],
          "scatterpolar": [
           {
            "marker": {
             "colorbar": {
              "outlinewidth": 0,
              "ticks": ""
             }
            },
            "type": "scatterpolar"
           }
          ],
          "scatterpolargl": [
           {
            "marker": {
             "colorbar": {
              "outlinewidth": 0,
              "ticks": ""
             }
            },
            "type": "scatterpolargl"
           }
          ],
          "scatterternary": [
           {
            "marker": {
             "colorbar": {
              "outlinewidth": 0,
              "ticks": ""
             }
            },
            "type": "scatterternary"
           }
          ],
          "surface": [
           {
            "colorbar": {
             "outlinewidth": 0,
             "ticks": ""
            },
            "colorscale": [
             [
              0.0,
              "#0d0887"
             ],
             [
              0.1111111111111111,
              "#46039f"
             ],
             [
              0.2222222222222222,
              "#7201a8"
             ],
             [
              0.3333333333333333,
              "#9c179e"
             ],
             [
              0.4444444444444444,
              "#bd3786"
             ],
             [
              0.5555555555555556,
              "#d8576b"
             ],
             [
              0.6666666666666666,
              "#ed7953"
             ],
             [
              0.7777777777777778,
              "#fb9f3a"
             ],
             [
              0.8888888888888888,
              "#fdca26"
             ],
             [
              1.0,
              "#f0f921"
             ]
            ],
            "type": "surface"
           }
          ],
          "table": [
           {
            "cells": {
             "fill": {
              "color": "#EBF0F8"
             },
             "line": {
              "color": "white"
             }
            },
            "header": {
             "fill": {
              "color": "#C8D4E3"
             },
             "line": {
              "color": "white"
             }
            },
            "type": "table"
           }
          ]
         },
         "layout": {
          "annotationdefaults": {
           "arrowcolor": "#2a3f5f",
           "arrowhead": 0,
           "arrowwidth": 1
          },
          "coloraxis": {
           "colorbar": {
            "outlinewidth": 0,
            "ticks": ""
           }
          },
          "colorscale": {
           "diverging": [
            [
             0,
             "#8e0152"
            ],
            [
             0.1,
             "#c51b7d"
            ],
            [
             0.2,
             "#de77ae"
            ],
            [
             0.3,
             "#f1b6da"
            ],
            [
             0.4,
             "#fde0ef"
            ],
            [
             0.5,
             "#f7f7f7"
            ],
            [
             0.6,
             "#e6f5d0"
            ],
            [
             0.7,
             "#b8e186"
            ],
            [
             0.8,
             "#7fbc41"
            ],
            [
             0.9,
             "#4d9221"
            ],
            [
             1,
             "#276419"
            ]
           ],
           "sequential": [
            [
             0.0,
             "#0d0887"
            ],
            [
             0.1111111111111111,
             "#46039f"
            ],
            [
             0.2222222222222222,
             "#7201a8"
            ],
            [
             0.3333333333333333,
             "#9c179e"
            ],
            [
             0.4444444444444444,
             "#bd3786"
            ],
            [
             0.5555555555555556,
             "#d8576b"
            ],
            [
             0.6666666666666666,
             "#ed7953"
            ],
            [
             0.7777777777777778,
             "#fb9f3a"
            ],
            [
             0.8888888888888888,
             "#fdca26"
            ],
            [
             1.0,
             "#f0f921"
            ]
           ],
           "sequentialminus": [
            [
             0.0,
             "#0d0887"
            ],
            [
             0.1111111111111111,
             "#46039f"
            ],
            [
             0.2222222222222222,
             "#7201a8"
            ],
            [
             0.3333333333333333,
             "#9c179e"
            ],
            [
             0.4444444444444444,
             "#bd3786"
            ],
            [
             0.5555555555555556,
             "#d8576b"
            ],
            [
             0.6666666666666666,
             "#ed7953"
            ],
            [
             0.7777777777777778,
             "#fb9f3a"
            ],
            [
             0.8888888888888888,
             "#fdca26"
            ],
            [
             1.0,
             "#f0f921"
            ]
           ]
          },
          "colorway": [
           "#636efa",
           "#EF553B",
           "#00cc96",
           "#ab63fa",
           "#FFA15A",
           "#19d3f3",
           "#FF6692",
           "#B6E880",
           "#FF97FF",
           "#FECB52"
          ],
          "font": {
           "color": "#2a3f5f"
          },
          "geo": {
           "bgcolor": "white",
           "lakecolor": "white",
           "landcolor": "#E5ECF6",
           "showlakes": true,
           "showland": true,
           "subunitcolor": "white"
          },
          "hoverlabel": {
           "align": "left"
          },
          "hovermode": "closest",
          "mapbox": {
           "style": "light"
          },
          "paper_bgcolor": "white",
          "plot_bgcolor": "#E5ECF6",
          "polar": {
           "angularaxis": {
            "gridcolor": "white",
            "linecolor": "white",
            "ticks": ""
           },
           "bgcolor": "#E5ECF6",
           "radialaxis": {
            "gridcolor": "white",
            "linecolor": "white",
            "ticks": ""
           }
          },
          "scene": {
           "xaxis": {
            "backgroundcolor": "#E5ECF6",
            "gridcolor": "white",
            "gridwidth": 2,
            "linecolor": "white",
            "showbackground": true,
            "ticks": "",
            "zerolinecolor": "white"
           },
           "yaxis": {
            "backgroundcolor": "#E5ECF6",
            "gridcolor": "white",
            "gridwidth": 2,
            "linecolor": "white",
            "showbackground": true,
            "ticks": "",
            "zerolinecolor": "white"
           },
           "zaxis": {
            "backgroundcolor": "#E5ECF6",
            "gridcolor": "white",
            "gridwidth": 2,
            "linecolor": "white",
            "showbackground": true,
            "ticks": "",
            "zerolinecolor": "white"
           }
          },
          "shapedefaults": {
           "line": {
            "color": "#2a3f5f"
           }
          },
          "ternary": {
           "aaxis": {
            "gridcolor": "white",
            "linecolor": "white",
            "ticks": ""
           },
           "baxis": {
            "gridcolor": "white",
            "linecolor": "white",
            "ticks": ""
           },
           "bgcolor": "#E5ECF6",
           "caxis": {
            "gridcolor": "white",
            "linecolor": "white",
            "ticks": ""
           }
          },
          "title": {
           "x": 0.05
          },
          "xaxis": {
           "automargin": true,
           "gridcolor": "white",
           "linecolor": "white",
           "ticks": "",
           "title": {
            "standoff": 15
           },
           "zerolinecolor": "white",
           "zerolinewidth": 2
          },
          "yaxis": {
           "automargin": true,
           "gridcolor": "white",
           "linecolor": "white",
           "ticks": "",
           "title": {
            "standoff": 15
           },
           "zerolinecolor": "white",
           "zerolinewidth": 2
          }
         }
        },
        "title": {
         "font": {
          "size": 15
         },
         "text": "<b>Breakeven Prices of Open Call/Put Options on <b>2016-01-04<b>. Closing Price in Blue<b>"
        },
        "xaxis": {
         "title": {
          "font": {
           "size": 10
          },
          "text": "<b>Breakeven Price Upon Expiry<b>"
         }
        },
        "yaxis": {
         "title": {
          "font": {
           "size": 10
          },
          "text": "<b>Number of Open Contracts<b>"
         }
        }
       }
      },
      "text/html": "<div>\n        \n        \n            <div id=\"21bd58f6-cd4c-48fd-93c9-39ac2a159a3d\" class=\"plotly-graph-div\" style=\"height:525px; width:100%;\"></div>\n            <script type=\"text/javascript\">\n                require([\"plotly\"], function(Plotly) {\n                    window.PLOTLYENV=window.PLOTLYENV || {};\n                    \n                if (document.getElementById(\"21bd58f6-cd4c-48fd-93c9-39ac2a159a3d\")) {\n                    Plotly.newPlot(\n                        '21bd58f6-cd4c-48fd-93c9-39ac2a159a3d',\n                        [{\"marker\": {\"color\": \"green\"}, \"name\": \"Call\", \"type\": \"bar\", \"width\": 0.5, \"x\": [86.02687639344262, 87.06462918032787, 88.10238196721312, 89.14013475409836, 90.1778875409836, 91.21564032786885, 92.25339311475409, 93.29114590163934, 94.32889868852459, 95.36665147540984, 96.40440426229509, 97.44215704918032, 98.47990983606557, 99.51766262295082, 100.55541540983606, 101.59316819672131, 102.63092098360656, 103.66867377049181, 104.70642655737706, 105.74417934426229, 106.78193213114754, 107.81968491803279, 108.85743770491803, 109.89519049180328, 110.93294327868853, 111.97069606557378, 113.00844885245903, 114.04620163934426, 115.08395442622951, 116.12170721311476, 117.15946, 118.19721278688525, 119.2349655737705, 120.27271836065574, 121.310471147541, 122.34822393442623, 123.38597672131148, 124.42372950819673, 125.46148229508196, 126.49923508196721, 127.53698786885246, 128.5747406557377, 129.61249344262296, 130.65024622950818, 131.68799901639346, 132.72575180327868, 133.76350459016393, 134.80125737704918, 135.83901016393443, 136.87676295081968, 137.91451573770493, 138.95226852459018, 139.9900213114754, 141.02777409836068, 142.0655268852459, 143.10327967213115, 144.1410324590164, 145.17878524590165, 146.2165380327869, 147.25429081967212, 148.2920436065574, 149.32979639344262, 150.36754918032787, 151.40530196721312, 152.44305475409837, 153.48080754098362, 154.51856032786887, 155.55631311475412, 156.59406590163934, 157.63181868852462, 158.66957147540984, 159.7073242622951, 160.74507704918034, 161.7828298360656, 162.82058262295084, 163.85833540983606, 164.89608819672134, 165.93384098360656, 166.9715937704918, 168.00934655737706, 169.0470993442623, 170.08485213114756, 171.1226049180328, 172.16035770491806, 173.19811049180328, 174.23586327868856, 175.27361606557378, 176.31136885245903, 177.34912163934428, 178.38687442622953, 179.42462721311477, 180.46238, 181.50013278688527, 182.5378855737705, 183.57563836065574, 184.613391147541, 185.65114393442624, 186.6888967213115, 187.72664950819674, 188.764402295082], \"y\": [94.0, 724.0, 13925.0, 14231.0, 9118.0, 25780.0, 6716.0, 10634.0, 24345.0, 1924.0, 14549.0, 6303.0, 503.0, 21337.0, 10581.0, 2604.0, 5005.0, 156.0, 13047.0, 1802.0, 9843.0, 0.0, 14088.0, 2782.0, 16871.0, 0.0, 44.0, 16586.0, 3176.0, 0.0, 47.0, 0.0, 11636.0, 8949.0, 53.0, 0.0, 0.0, 9056.0, 240.0, 0.0, 0.0, 0.0, 6295.0, 46.0, 0.0, 0.0, 2548.0, 2736.0, 0.0, 0.0, 0.0, 2882.0, 30.0, 0.0, 0.0, 0.0, 4260.0, 0.0, 0.0, 0.0, 0.0, 1971.0, 0.0, 0.0, 0.0, 0.0, 704.0, 0.0, 0.0, 0.0, 0.0, 947.0, 0.0, 0.0, 0.0, 285.0, 0.0, 0.0, 0.0, 0.0, 558.0, 0.0, 0.0, 0.0, 0.0, 458.0, 0.0, 0.0, 0.0, 0.0, 171.0, 0.0, 0.0, 0.0, 0.0, 181.0, 0.0, 0.0, 0.0, 474.0]}, {\"marker\": {\"color\": \"red\"}, \"name\": \"Put\", \"type\": \"bar\", \"width\": 0.5, \"x\": [39.049764918032785, 39.55329475409836, 40.056824590163934, 40.56035442622951, 41.06388426229508, 41.56741409836066, 42.070943934426225, 42.5744737704918, 43.078003606557374, 43.58153344262295, 44.08506327868852, 44.5885931147541, 45.09212295081967, 45.595652786885246, 46.09918262295082, 46.602712459016395, 47.10624229508197, 47.60977213114754, 48.11330196721311, 48.616831803278686, 49.12036163934426, 49.623891475409835, 50.12742131147541, 50.63095114754098, 51.13448098360656, 51.63801081967213, 52.1415406557377, 52.64507049180328, 53.14860032786885, 53.65213016393442, 54.15566, 54.65918983606557, 55.162719672131146, 55.66624950819672, 56.169779344262295, 56.67330918032786, 57.176839016393444, 57.68036885245901, 58.18389868852459, 58.68742852459016, 59.190958360655735, 59.69448819672131, 60.198018032786884, 60.70154786885246, 61.20507770491803, 61.70860754098361, 62.212137377049174, 62.715667213114756, 63.21919704918032, 63.722726885245905, 64.22625672131147, 64.72978655737705, 65.23331639344262, 65.73684622950819, 66.24037606557377, 66.74390590163935, 67.24743573770492, 67.75096557377049, 68.25449540983607, 68.75802524590164, 69.26155508196722, 69.76508491803278, 70.26861475409837, 70.77214459016393, 71.2756744262295, 71.77920426229508, 72.28273409836066, 72.78626393442623, 73.2897937704918, 73.79332360655738, 74.29685344262295, 74.80038327868851, 75.3039131147541, 75.80744295081968, 76.31097278688524, 76.81450262295081, 77.3180324590164, 77.82156229508197, 78.32509213114754, 78.82862196721311, 79.33215180327869, 79.83568163934426, 80.33921147540983, 80.84274131147541, 81.34627114754099, 81.84980098360656, 82.35333081967212, 82.8568606557377, 83.36039049180329, 83.86392032786885, 84.36745016393442, 84.87098, 85.37450983606557, 85.87803967213114, 86.38156950819672, 86.8850993442623, 87.38862918032787, 87.89215901639344, 88.39568885245902, 88.89921868852458], \"y\": [479.0, 250.0, 0.0, 0.0, 0.0, 0.0, 103.0, 0.0, 0.0, 1172.0, 416.0, 1165.0, 0.0, 0.0, 0.0, 111.0, 0.0, 0.0, 790.0, 0.0, 5227.0, 412.0, 128.0, 0.0, 66.0, 0.0, 0.0, 7597.0, 0.0, 0.0, 20376.0, 541.0, 0.0, 0.0, 0.0, 0.0, 2777.0, 0.0, 0.0, 379.0, 9004.0, 76.0, 0.0, 0.0, 3235.0, 0.0, 86.0, 0.0, 281.0, 0.0, 11177.0, 639.0, 6260.0, 0.0, 0.0, 0.0, 0.0, 374.0, 272.0, 11159.0, 12340.0, 0.0, 152.0, 0.0, 150.0, 857.0, 6159.0, 0.0, 7151.0, 1540.0, 12930.0, 5151.0, 2931.0, 483.0, 153.0, 154.0, 15472.0, 164.0, 4236.0, 18451.0, 776.0, 4414.0, 355.0, 6092.0, 11208.0, 4724.0, 1863.0, 5388.0, 32541.0, 1640.0, 1994.0, 3347.0, 10186.0, 3645.0, 42370.0, 16904.0, 12812.0, 1214.0, 554.0, 8570.0]}],\n                        {\"font\": {\"size\": 15}, \"shapes\": [{\"line\": {\"color\": \"blue\", \"dash\": \"dot\", \"width\": 2}, \"type\": \"line\", \"x0\": 88.2711475409836, \"x1\": 88.2711475409836, \"y0\": 0, \"y1\": 42370.0}], \"template\": {\"data\": {\"bar\": [{\"error_x\": {\"color\": \"#2a3f5f\"}, \"error_y\": {\"color\": \"#2a3f5f\"}, \"marker\": {\"line\": {\"color\": \"#E5ECF6\", \"width\": 0.5}}, \"type\": \"bar\"}], \"barpolar\": [{\"marker\": {\"line\": {\"color\": \"#E5ECF6\", \"width\": 0.5}}, \"type\": \"barpolar\"}], \"carpet\": [{\"aaxis\": {\"endlinecolor\": \"#2a3f5f\", \"gridcolor\": \"white\", \"linecolor\": \"white\", \"minorgridcolor\": \"white\", \"startlinecolor\": \"#2a3f5f\"}, \"baxis\": {\"endlinecolor\": \"#2a3f5f\", \"gridcolor\": \"white\", \"linecolor\": \"white\", \"minorgridcolor\": \"white\", \"startlinecolor\": \"#2a3f5f\"}, \"type\": \"carpet\"}], \"choropleth\": [{\"colorbar\": {\"outlinewidth\": 0, \"ticks\": \"\"}, \"type\": \"choropleth\"}], \"contour\": [{\"colorbar\": {\"outlinewidth\": 0, \"ticks\": \"\"}, \"colorscale\": [[0.0, \"#0d0887\"], [0.1111111111111111, \"#46039f\"], [0.2222222222222222, \"#7201a8\"], [0.3333333333333333, \"#9c179e\"], [0.4444444444444444, \"#bd3786\"], [0.5555555555555556, \"#d8576b\"], [0.6666666666666666, \"#ed7953\"], [0.7777777777777778, \"#fb9f3a\"], [0.8888888888888888, \"#fdca26\"], [1.0, \"#f0f921\"]], \"type\": \"contour\"}], \"contourcarpet\": [{\"colorbar\": {\"outlinewidth\": 0, \"ticks\": \"\"}, \"type\": \"contourcarpet\"}], \"heatmap\": [{\"colorbar\": {\"outlinewidth\": 0, \"ticks\": \"\"}, \"colorscale\": [[0.0, \"#0d0887\"], [0.1111111111111111, \"#46039f\"], [0.2222222222222222, \"#7201a8\"], [0.3333333333333333, \"#9c179e\"], [0.4444444444444444, \"#bd3786\"], [0.5555555555555556, \"#d8576b\"], [0.6666666666666666, \"#ed7953\"], [0.7777777777777778, \"#fb9f3a\"], [0.8888888888888888, \"#fdca26\"], [1.0, \"#f0f921\"]], \"type\": \"heatmap\"}], \"heatmapgl\": [{\"colorbar\": {\"outlinewidth\": 0, \"ticks\": \"\"}, \"colorscale\": [[0.0, \"#0d0887\"], [0.1111111111111111, \"#46039f\"], [0.2222222222222222, \"#7201a8\"], [0.3333333333333333, \"#9c179e\"], [0.4444444444444444, \"#bd3786\"], [0.5555555555555556, \"#d8576b\"], [0.6666666666666666, \"#ed7953\"], [0.7777777777777778, \"#fb9f3a\"], [0.8888888888888888, \"#fdca26\"], [1.0, \"#f0f921\"]], \"type\": \"heatmapgl\"}], \"histogram\": [{\"marker\": {\"colorbar\": {\"outlinewidth\": 0, \"ticks\": \"\"}}, \"type\": \"histogram\"}], \"histogram2d\": [{\"colorbar\": {\"outlinewidth\": 0, \"ticks\": \"\"}, \"colorscale\": [[0.0, \"#0d0887\"], [0.1111111111111111, \"#46039f\"], [0.2222222222222222, \"#7201a8\"], [0.3333333333333333, \"#9c179e\"], [0.4444444444444444, \"#bd3786\"], [0.5555555555555556, \"#d8576b\"], [0.6666666666666666, \"#ed7953\"], [0.7777777777777778, \"#fb9f3a\"], [0.8888888888888888, \"#fdca26\"], [1.0, \"#f0f921\"]], \"type\": \"histogram2d\"}], \"histogram2dcontour\": [{\"colorbar\": {\"outlinewidth\": 0, \"ticks\": \"\"}, \"colorscale\": [[0.0, \"#0d0887\"], [0.1111111111111111, \"#46039f\"], [0.2222222222222222, \"#7201a8\"], [0.3333333333333333, \"#9c179e\"], [0.4444444444444444, \"#bd3786\"], [0.5555555555555556, \"#d8576b\"], [0.6666666666666666, \"#ed7953\"], [0.7777777777777778, \"#fb9f3a\"], [0.8888888888888888, \"#fdca26\"], [1.0, \"#f0f921\"]], \"type\": \"histogram2dcontour\"}], \"mesh3d\": [{\"colorbar\": {\"outlinewidth\": 0, \"ticks\": \"\"}, \"type\": \"mesh3d\"}], \"parcoords\": [{\"line\": {\"colorbar\": {\"outlinewidth\": 0, \"ticks\": \"\"}}, \"type\": \"parcoords\"}], \"pie\": [{\"automargin\": true, \"type\": \"pie\"}], \"scatter\": [{\"marker\": {\"colorbar\": {\"outlinewidth\": 0, \"ticks\": \"\"}}, \"type\": \"scatter\"}], \"scatter3d\": [{\"line\": {\"colorbar\": {\"outlinewidth\": 0, \"ticks\": \"\"}}, \"marker\": {\"colorbar\": {\"outlinewidth\": 0, \"ticks\": \"\"}}, \"type\": \"scatter3d\"}], \"scattercarpet\": [{\"marker\": {\"colorbar\": {\"outlinewidth\": 0, \"ticks\": \"\"}}, \"type\": \"scattercarpet\"}], \"scattergeo\": [{\"marker\": {\"colorbar\": {\"outlinewidth\": 0, \"ticks\": \"\"}}, \"type\": \"scattergeo\"}], \"scattergl\": [{\"marker\": {\"colorbar\": {\"outlinewidth\": 0, \"ticks\": \"\"}}, \"type\": \"scattergl\"}], \"scattermapbox\": [{\"marker\": {\"colorbar\": {\"outlinewidth\": 0, \"ticks\": \"\"}}, \"type\": \"scattermapbox\"}], \"scatterpolar\": [{\"marker\": {\"colorbar\": {\"outlinewidth\": 0, \"ticks\": \"\"}}, \"type\": \"scatterpolar\"}], \"scatterpolargl\": [{\"marker\": {\"colorbar\": {\"outlinewidth\": 0, \"ticks\": \"\"}}, \"type\": \"scatterpolargl\"}], \"scatterternary\": [{\"marker\": {\"colorbar\": {\"outlinewidth\": 0, \"ticks\": \"\"}}, \"type\": \"scatterternary\"}], \"surface\": [{\"colorbar\": {\"outlinewidth\": 0, \"ticks\": \"\"}, \"colorscale\": [[0.0, \"#0d0887\"], [0.1111111111111111, \"#46039f\"], [0.2222222222222222, \"#7201a8\"], [0.3333333333333333, \"#9c179e\"], [0.4444444444444444, \"#bd3786\"], [0.5555555555555556, \"#d8576b\"], [0.6666666666666666, \"#ed7953\"], [0.7777777777777778, \"#fb9f3a\"], [0.8888888888888888, \"#fdca26\"], [1.0, \"#f0f921\"]], \"type\": \"surface\"}], \"table\": [{\"cells\": {\"fill\": {\"color\": \"#EBF0F8\"}, \"line\": {\"color\": \"white\"}}, \"header\": {\"fill\": {\"color\": \"#C8D4E3\"}, \"line\": {\"color\": \"white\"}}, \"type\": \"table\"}]}, \"layout\": {\"annotationdefaults\": {\"arrowcolor\": \"#2a3f5f\", \"arrowhead\": 0, \"arrowwidth\": 1}, \"coloraxis\": {\"colorbar\": {\"outlinewidth\": 0, \"ticks\": \"\"}}, \"colorscale\": {\"diverging\": [[0, \"#8e0152\"], [0.1, \"#c51b7d\"], [0.2, \"#de77ae\"], [0.3, \"#f1b6da\"], [0.4, \"#fde0ef\"], [0.5, \"#f7f7f7\"], [0.6, \"#e6f5d0\"], [0.7, \"#b8e186\"], [0.8, \"#7fbc41\"], [0.9, \"#4d9221\"], [1, \"#276419\"]], \"sequential\": [[0.0, \"#0d0887\"], [0.1111111111111111, \"#46039f\"], [0.2222222222222222, \"#7201a8\"], [0.3333333333333333, \"#9c179e\"], [0.4444444444444444, \"#bd3786\"], [0.5555555555555556, \"#d8576b\"], [0.6666666666666666, \"#ed7953\"], [0.7777777777777778, \"#fb9f3a\"], [0.8888888888888888, \"#fdca26\"], [1.0, \"#f0f921\"]], \"sequentialminus\": [[0.0, \"#0d0887\"], [0.1111111111111111, \"#46039f\"], [0.2222222222222222, \"#7201a8\"], [0.3333333333333333, \"#9c179e\"], [0.4444444444444444, \"#bd3786\"], [0.5555555555555556, \"#d8576b\"], [0.6666666666666666, \"#ed7953\"], [0.7777777777777778, \"#fb9f3a\"], [0.8888888888888888, \"#fdca26\"], [1.0, \"#f0f921\"]]}, \"colorway\": [\"#636efa\", \"#EF553B\", \"#00cc96\", \"#ab63fa\", \"#FFA15A\", \"#19d3f3\", \"#FF6692\", \"#B6E880\", \"#FF97FF\", \"#FECB52\"], \"font\": {\"color\": \"#2a3f5f\"}, \"geo\": {\"bgcolor\": \"white\", \"lakecolor\": \"white\", \"landcolor\": \"#E5ECF6\", \"showlakes\": true, \"showland\": true, \"subunitcolor\": \"white\"}, \"hoverlabel\": {\"align\": \"left\"}, \"hovermode\": \"closest\", \"mapbox\": {\"style\": \"light\"}, \"paper_bgcolor\": \"white\", \"plot_bgcolor\": \"#E5ECF6\", \"polar\": {\"angularaxis\": {\"gridcolor\": \"white\", \"linecolor\": \"white\", \"ticks\": \"\"}, \"bgcolor\": \"#E5ECF6\", \"radialaxis\": {\"gridcolor\": \"white\", \"linecolor\": \"white\", \"ticks\": \"\"}}, \"scene\": {\"xaxis\": {\"backgroundcolor\": \"#E5ECF6\", \"gridcolor\": \"white\", \"gridwidth\": 2, \"linecolor\": \"white\", \"showbackground\": true, \"ticks\": \"\", \"zerolinecolor\": \"white\"}, \"yaxis\": {\"backgroundcolor\": \"#E5ECF6\", \"gridcolor\": \"white\", \"gridwidth\": 2, \"linecolor\": \"white\", \"showbackground\": true, \"ticks\": \"\", \"zerolinecolor\": \"white\"}, \"zaxis\": {\"backgroundcolor\": \"#E5ECF6\", \"gridcolor\": \"white\", \"gridwidth\": 2, \"linecolor\": \"white\", \"showbackground\": true, \"ticks\": \"\", \"zerolinecolor\": \"white\"}}, \"shapedefaults\": {\"line\": {\"color\": \"#2a3f5f\"}}, \"ternary\": {\"aaxis\": {\"gridcolor\": \"white\", \"linecolor\": \"white\", \"ticks\": \"\"}, \"baxis\": {\"gridcolor\": \"white\", \"linecolor\": \"white\", \"ticks\": \"\"}, \"bgcolor\": \"#E5ECF6\", \"caxis\": {\"gridcolor\": \"white\", \"linecolor\": \"white\", \"ticks\": \"\"}}, \"title\": {\"x\": 0.05}, \"xaxis\": {\"automargin\": true, \"gridcolor\": \"white\", \"linecolor\": \"white\", \"ticks\": \"\", \"title\": {\"standoff\": 15}, \"zerolinecolor\": \"white\", \"zerolinewidth\": 2}, \"yaxis\": {\"automargin\": true, \"gridcolor\": \"white\", \"linecolor\": \"white\", \"ticks\": \"\", \"title\": {\"standoff\": 15}, \"zerolinecolor\": \"white\", \"zerolinewidth\": 2}}}, \"title\": {\"font\": {\"size\": 15}, \"text\": \"<b>Breakeven Prices of Open Call/Put Options on <b>2016-01-04<b>. Closing Price in Blue<b>\"}, \"xaxis\": {\"title\": {\"font\": {\"size\": 10}, \"text\": \"<b>Breakeven Price Upon Expiry<b>\"}}, \"yaxis\": {\"title\": {\"font\": {\"size\": 10}, \"text\": \"<b>Number of Open Contracts<b>\"}}},\n                        {\"responsive\": true}\n                    ).then(function(){\n                            \nvar gd = document.getElementById('21bd58f6-cd4c-48fd-93c9-39ac2a159a3d');\nvar x = new MutationObserver(function (mutations, observer) {{\n        var display = window.getComputedStyle(gd).display;\n        if (!display || display === 'none') {{\n            console.log([gd, 'removed!']);\n            Plotly.purge(gd);\n            observer.disconnect();\n        }}\n}});\n\n// Listen for the removal of the full notebook cells\nvar notebookContainer = gd.closest('#notebook-container');\nif (notebookContainer) {{\n    x.observe(notebookContainer, {childList: true});\n}}\n\n// Listen for the clearing of the current output cell\nvar outputEl = gd.closest('.output');\nif (outputEl) {{\n    x.observe(outputEl, {childList: true});\n}}\n\n                        })\n                };\n                });\n            </script>\n        </div>"
     },
     "metadata": {},
     "output_type": "display_data"
    }
   ],
   "source": [
    "fig = go.Figure()\n",
    "date = np.unique(options_df[\"date\"])[0]\n",
    "\n",
    "for my_df in [calls_df, puts_df]:\n",
    "    temp_df = my_df[(my_df[\"date\"] == date) & (my_df[\"open interest\"] > 0)].reset_index(drop=True)\n",
    "    my_min = np.min(temp_df[\"adj breakeven\"])\n",
    "    my_max = np.max(temp_df[\"adj breakeven\"])\n",
    "    # bins used for histogram\n",
    "    [my_bins, my_step] = np.linspace(start=my_min,\n",
    "                                     stop=my_max,\n",
    "                                     num=num_bars + 1,\n",
    "                                     retstep=True)\n",
    "    # Obtain which bin each adjusted breakeven price belongs\n",
    "    my_indices = np.digitize(x=temp_df[\"adj breakeven\"],\n",
    "                             bins=my_bins,\n",
    "                             right=True)\n",
    "    # Subtract one since indicies start with \"1\"\n",
    "    my_indices = my_indices - 1\n",
    "    x_axis = np.linspace(start=my_min + 0.5 * my_step,\n",
    "                         stop=my_max - 0.5 * my_step,\n",
    "                         num=num_bars)\n",
    "    y_axis = pd.Series(np.zeros(num_bars))\n",
    "    for n in range(temp_df.shape[0]):\n",
    "        y_axis.iloc[my_indices[n]] += temp_df.loc[n, \"open interest\"]\n",
    "\n",
    "    if all(temp_df[\"type\"] == \"call\"):\n",
    "        my_color = \"green\"\n",
    "        my_legend = \"Call\"\n",
    "    else:\n",
    "        my_color = \"red\"\n",
    "        my_legend = \"Put\"\n",
    "\n",
    "    fig.add_trace(go.Bar(x=x_axis,\n",
    "                         y=y_axis,\n",
    "                         marker_color=my_color,\n",
    "                         name=my_legend,\n",
    "                         width=0.5))\n",
    "\n",
    "fig.add_shape(dict(\n",
    "    type=\"line\",\n",
    "    x0=np.unique(temp_df[\"adj closing\"])[0],\n",
    "    y0=0,\n",
    "    x1=np.unique(temp_df[\"adj closing\"])[0],\n",
    "    y1=max(y_axis),\n",
    "    line=dict(\n",
    "        color=\"blue\",\n",
    "        dash=\"dot\",\n",
    "        width=2\n",
    "    )\n",
    "))\n",
    "\n",
    "fig.update_layout(\n",
    "    title=dict(text=\"<b>Breakeven Prices of Open Call/Put Options on <b>\" +\n",
    "               str(date) + \"<b>. Closing Price in Blue<b>\",\n",
    "               font=dict(size=15)),\n",
    "    xaxis_title=dict(text=\"<b>Breakeven Price Upon Expiry<b>\",\n",
    "                     font=dict(size=10)),\n",
    "    yaxis_title=dict(text=\"<b>Number of Open Contracts<b>\",\n",
    "                     font=dict(size=10)),\n",
    "    font=dict(size=15)\n",
    ")\n",
    "\n",
    "fig.show()"
   ],
   "metadata": {
    "collapsed": false,
    "pycharm": {
     "name": "#%%\n"
    }
   }
  }
 ],
 "metadata": {
  "kernelspec": {
   "display_name": "Python 3",
   "language": "python",
   "name": "python3"
  },
  "language_info": {
   "codemirror_mode": {
    "name": "ipython",
    "version": 2
   },
   "file_extension": ".py",
   "mimetype": "text/x-python",
   "name": "python",
   "nbconvert_exporter": "python",
   "pygments_lexer": "ipython2",
   "version": "2.7.6"
  }
 },
 "nbformat": 4,
 "nbformat_minor": 0
}