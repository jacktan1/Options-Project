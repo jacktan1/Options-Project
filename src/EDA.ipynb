{
 "cells": [
  {
   "cell_type": "markdown",
   "source": [
    "## Exploratory Data Analysis and Feature Engineering\n",
    "Here we work with adjusted options data from the `data/adjusted_options` directory. We aim to produce\n",
    "a novel technical indicator to be used for training of model"
   ],
   "metadata": {
    "collapsed": false
   }
  },
  {
   "cell_type": "markdown",
   "source": [
    "**Importing required packages & changing working directory**"
   ],
   "metadata": {
    "collapsed": false,
    "pycharm": {
     "name": "#%% md\n"
    }
   }
  },
  {
   "cell_type": "code",
   "execution_count": 6,
   "outputs": [],
   "source": [
    "import pandas as pd\n",
    "import numpy as np\n",
    "import plotly.graph_objects as go\n",
    "import os\n",
    "\n",
    "if os.getcwd()[-3:] == \"src\":\n",
    "    os.chdir(os.path.dirname(os.getcwd()))\n",
    "else:\n",
    "    pass"
   ],
   "metadata": {
    "collapsed": false,
    "pycharm": {
     "name": "#%%\n"
    }
   }
  },
  {
   "cell_type": "markdown",
   "source": [
    "**User defined parameters**"
   ],
   "metadata": {
    "collapsed": false
   }
  },
  {
   "cell_type": "code",
   "execution_count": 7,
   "outputs": [],
   "source": [
    "stock_of_interest = \"CVX\"\n",
    "option_data_path = \"data/adjusted_options/\"\n",
    "stock_data_path = \"data/adjusted_daily_closing/\"\n",
    "num_bars = 100\n"
   ],
   "metadata": {
    "collapsed": false,
    "pycharm": {
     "name": "#%%\n"
    }
   }
  },
  {
   "cell_type": "markdown",
   "source": [
    "**Load adjusted options data**\n"
   ],
   "metadata": {
    "collapsed": false
   }
  },
  {
   "cell_type": "code",
   "execution_count": 8,
   "outputs": [],
   "source": [
    "try:\n",
    "    options_df = pd.read_csv(os.path.abspath(os.path.join(option_data_path, stock_of_interest)) + \".csv\")\n",
    "    options_df[\"date\"] = pd.to_datetime(options_df[\"date\"]).dt.date\n",
    "    options_df[\"expiration date\"] = pd.to_datetime(options_df[\"expiration date\"]).dt.date\n",
    "except FileNotFoundError:\n",
    "    raise SystemExit(\"Option data for \" + stock_of_interest + \" not found in path: \" +\n",
    "                     os.path.abspath(os.path.join(option_data_path, stock_of_interest)) + \".csv\")\n"
   ],
   "metadata": {
    "collapsed": false,
    "pycharm": {
     "name": "#%%\n"
    }
   }
  },
  {
   "cell_type": "markdown",
   "source": [
    "First off, I would like to note that we are only using `bid price` or `last price` as a measure of an option's value.\n",
    "This is because, we are focused on the selling of options, and `ask price` is an exaggerated representation of demand.\n",
    "\n",
    "Thus, we first remove options that neither have bid or last price, as we cannot determine demand. In addition, we will\n",
    "also remove options that have neither volume nor open interest. I made this decision because I believe that options\n",
    "that have no holders and liquidity is not representative of the market, as the `last price` may be outdated and\n",
    "`bid price` undervalued.\n"
   ],
   "metadata": {
    "collapsed": false
   }
  },
  {
   "cell_type": "code",
   "execution_count": 9,
   "outputs": [
    {
     "data": {
      "text/plain": "          date expiration date  type  strike price  ask price  ask size  \\\n9   2016-01-04      2016-01-08   put          65.0       0.25     173.0   \n10  2016-01-04      2016-01-08  call          70.0      19.15      27.0   \n11  2016-01-04      2016-01-08   put          70.0       0.03      28.0   \n13  2016-01-04      2016-01-08   put          75.0       0.05     418.0   \n15  2016-01-04      2016-01-08   put          76.5       0.04     117.0   \n\n    bid price  bid size  last price  volume  open interest  closing price  \\\n9        0.00       0.0        0.01     0.0           13.0          88.85   \n10      17.45     344.0       10.83     0.0            1.0          88.85   \n11       0.00       0.0        0.04     0.0          173.0          88.85   \n13       0.01      36.0        0.02   162.0         1506.0          88.85   \n15       0.02      25.0        0.02   291.0           11.0          88.85   \n\n    exp date closing price  date div  exp date div  \n9                    82.13  0.578852      0.649016  \n10                   82.13  0.578852      0.649016  \n11                   82.13  0.578852      0.649016  \n13                   82.13  0.578852      0.649016  \n15                   82.13  0.578852      0.649016  ",
      "text/html": "<div>\n<style scoped>\n    .dataframe tbody tr th:only-of-type {\n        vertical-align: middle;\n    }\n\n    .dataframe tbody tr th {\n        vertical-align: top;\n    }\n\n    .dataframe thead th {\n        text-align: right;\n    }\n</style>\n<table border=\"1\" class=\"dataframe\">\n  <thead>\n    <tr style=\"text-align: right;\">\n      <th></th>\n      <th>date</th>\n      <th>expiration date</th>\n      <th>type</th>\n      <th>strike price</th>\n      <th>ask price</th>\n      <th>ask size</th>\n      <th>bid price</th>\n      <th>bid size</th>\n      <th>last price</th>\n      <th>volume</th>\n      <th>open interest</th>\n      <th>closing price</th>\n      <th>exp date closing price</th>\n      <th>date div</th>\n      <th>exp date div</th>\n    </tr>\n  </thead>\n  <tbody>\n    <tr>\n      <th>9</th>\n      <td>2016-01-04</td>\n      <td>2016-01-08</td>\n      <td>put</td>\n      <td>65.0</td>\n      <td>0.25</td>\n      <td>173.0</td>\n      <td>0.00</td>\n      <td>0.0</td>\n      <td>0.01</td>\n      <td>0.0</td>\n      <td>13.0</td>\n      <td>88.85</td>\n      <td>82.13</td>\n      <td>0.578852</td>\n      <td>0.649016</td>\n    </tr>\n    <tr>\n      <th>10</th>\n      <td>2016-01-04</td>\n      <td>2016-01-08</td>\n      <td>call</td>\n      <td>70.0</td>\n      <td>19.15</td>\n      <td>27.0</td>\n      <td>17.45</td>\n      <td>344.0</td>\n      <td>10.83</td>\n      <td>0.0</td>\n      <td>1.0</td>\n      <td>88.85</td>\n      <td>82.13</td>\n      <td>0.578852</td>\n      <td>0.649016</td>\n    </tr>\n    <tr>\n      <th>11</th>\n      <td>2016-01-04</td>\n      <td>2016-01-08</td>\n      <td>put</td>\n      <td>70.0</td>\n      <td>0.03</td>\n      <td>28.0</td>\n      <td>0.00</td>\n      <td>0.0</td>\n      <td>0.04</td>\n      <td>0.0</td>\n      <td>173.0</td>\n      <td>88.85</td>\n      <td>82.13</td>\n      <td>0.578852</td>\n      <td>0.649016</td>\n    </tr>\n    <tr>\n      <th>13</th>\n      <td>2016-01-04</td>\n      <td>2016-01-08</td>\n      <td>put</td>\n      <td>75.0</td>\n      <td>0.05</td>\n      <td>418.0</td>\n      <td>0.01</td>\n      <td>36.0</td>\n      <td>0.02</td>\n      <td>162.0</td>\n      <td>1506.0</td>\n      <td>88.85</td>\n      <td>82.13</td>\n      <td>0.578852</td>\n      <td>0.649016</td>\n    </tr>\n    <tr>\n      <th>15</th>\n      <td>2016-01-04</td>\n      <td>2016-01-08</td>\n      <td>put</td>\n      <td>76.5</td>\n      <td>0.04</td>\n      <td>117.0</td>\n      <td>0.02</td>\n      <td>25.0</td>\n      <td>0.02</td>\n      <td>291.0</td>\n      <td>11.0</td>\n      <td>88.85</td>\n      <td>82.13</td>\n      <td>0.578852</td>\n      <td>0.649016</td>\n    </tr>\n  </tbody>\n</table>\n</div>"
     },
     "execution_count": 9,
     "metadata": {},
     "output_type": "execute_result"
    }
   ],
   "source": [
    "options_df = options_df[(options_df[[\"bid price\", \"last price\"]].max(axis=1) > 0) &\n",
    "                        (options_df[[\"volume\", \"open interest\"]].max(axis=1) > 0)]\n",
    "options_df.head()"
   ],
   "metadata": {
    "collapsed": false,
    "pycharm": {
     "name": "#%%\n"
    }
   }
  },
  {
   "cell_type": "markdown",
   "source": [
    "Since the option strike price, closing price on current and expiration dates all contain priced in dividends,\n",
    "we will remove these with the pre-calculated dividend contributions. This is done in script `scrape_and_preprocess.py`."
   ],
   "metadata": {
    "collapsed": false
   }
  },
  {
   "cell_type": "code",
   "execution_count": 10,
   "outputs": [
    {
     "data": {
      "text/plain": "          date expiration date  type  strike price  ask price  ask size  \\\n9   2016-01-04      2016-01-08   put          65.0       0.25     173.0   \n10  2016-01-04      2016-01-08  call          70.0      19.15      27.0   \n11  2016-01-04      2016-01-08   put          70.0       0.03      28.0   \n13  2016-01-04      2016-01-08   put          75.0       0.05     418.0   \n15  2016-01-04      2016-01-08   put          76.5       0.04     117.0   \n\n    bid price  bid size  last price  volume  open interest  closing price  \\\n9        0.00       0.0        0.01     0.0           13.0          88.85   \n10      17.45     344.0       10.83     0.0            1.0          88.85   \n11       0.00       0.0        0.04     0.0          173.0          88.85   \n13       0.01      36.0        0.02   162.0         1506.0          88.85   \n15       0.02      25.0        0.02   291.0           11.0          88.85   \n\n    exp date closing price  adj closing  adj strike  adj exp closing  \\\n9                    82.13    88.271148   64.350984        81.480984   \n10                   82.13    88.271148   69.350984        81.480984   \n11                   82.13    88.271148   69.350984        81.480984   \n13                   82.13    88.271148   74.350984        81.480984   \n15                   82.13    88.271148   75.850984        81.480984   \n\n    days till exp  \n9               4  \n10              4  \n11              4  \n13              4  \n15              4  ",
      "text/html": "<div>\n<style scoped>\n    .dataframe tbody tr th:only-of-type {\n        vertical-align: middle;\n    }\n\n    .dataframe tbody tr th {\n        vertical-align: top;\n    }\n\n    .dataframe thead th {\n        text-align: right;\n    }\n</style>\n<table border=\"1\" class=\"dataframe\">\n  <thead>\n    <tr style=\"text-align: right;\">\n      <th></th>\n      <th>date</th>\n      <th>expiration date</th>\n      <th>type</th>\n      <th>strike price</th>\n      <th>ask price</th>\n      <th>ask size</th>\n      <th>bid price</th>\n      <th>bid size</th>\n      <th>last price</th>\n      <th>volume</th>\n      <th>open interest</th>\n      <th>closing price</th>\n      <th>exp date closing price</th>\n      <th>adj closing</th>\n      <th>adj strike</th>\n      <th>adj exp closing</th>\n      <th>days till exp</th>\n    </tr>\n  </thead>\n  <tbody>\n    <tr>\n      <th>9</th>\n      <td>2016-01-04</td>\n      <td>2016-01-08</td>\n      <td>put</td>\n      <td>65.0</td>\n      <td>0.25</td>\n      <td>173.0</td>\n      <td>0.00</td>\n      <td>0.0</td>\n      <td>0.01</td>\n      <td>0.0</td>\n      <td>13.0</td>\n      <td>88.85</td>\n      <td>82.13</td>\n      <td>88.271148</td>\n      <td>64.350984</td>\n      <td>81.480984</td>\n      <td>4</td>\n    </tr>\n    <tr>\n      <th>10</th>\n      <td>2016-01-04</td>\n      <td>2016-01-08</td>\n      <td>call</td>\n      <td>70.0</td>\n      <td>19.15</td>\n      <td>27.0</td>\n      <td>17.45</td>\n      <td>344.0</td>\n      <td>10.83</td>\n      <td>0.0</td>\n      <td>1.0</td>\n      <td>88.85</td>\n      <td>82.13</td>\n      <td>88.271148</td>\n      <td>69.350984</td>\n      <td>81.480984</td>\n      <td>4</td>\n    </tr>\n    <tr>\n      <th>11</th>\n      <td>2016-01-04</td>\n      <td>2016-01-08</td>\n      <td>put</td>\n      <td>70.0</td>\n      <td>0.03</td>\n      <td>28.0</td>\n      <td>0.00</td>\n      <td>0.0</td>\n      <td>0.04</td>\n      <td>0.0</td>\n      <td>173.0</td>\n      <td>88.85</td>\n      <td>82.13</td>\n      <td>88.271148</td>\n      <td>69.350984</td>\n      <td>81.480984</td>\n      <td>4</td>\n    </tr>\n    <tr>\n      <th>13</th>\n      <td>2016-01-04</td>\n      <td>2016-01-08</td>\n      <td>put</td>\n      <td>75.0</td>\n      <td>0.05</td>\n      <td>418.0</td>\n      <td>0.01</td>\n      <td>36.0</td>\n      <td>0.02</td>\n      <td>162.0</td>\n      <td>1506.0</td>\n      <td>88.85</td>\n      <td>82.13</td>\n      <td>88.271148</td>\n      <td>74.350984</td>\n      <td>81.480984</td>\n      <td>4</td>\n    </tr>\n    <tr>\n      <th>15</th>\n      <td>2016-01-04</td>\n      <td>2016-01-08</td>\n      <td>put</td>\n      <td>76.5</td>\n      <td>0.04</td>\n      <td>117.0</td>\n      <td>0.02</td>\n      <td>25.0</td>\n      <td>0.02</td>\n      <td>291.0</td>\n      <td>11.0</td>\n      <td>88.85</td>\n      <td>82.13</td>\n      <td>88.271148</td>\n      <td>75.850984</td>\n      <td>81.480984</td>\n      <td>4</td>\n    </tr>\n  </tbody>\n</table>\n</div>"
     },
     "execution_count": 10,
     "metadata": {},
     "output_type": "execute_result"
    }
   ],
   "source": [
    "options_df[\"adj closing\"] = options_df[\"closing price\"] - options_df[\"date div\"]\n",
    "options_df[\"adj strike\"] = options_df[\"strike price\"] - options_df[\"exp date div\"]\n",
    "options_df[\"adj exp closing\"] = options_df[\"exp date closing price\"] - options_df[\"exp date div\"]\n",
    "options_df[\"days till exp\"] = np.busday_count(begindates=options_df[\"date\"],\n",
    "                                              enddates=options_df[\"expiration date\"])\n",
    "options_df = options_df.drop(columns=[\"date div\", \"exp date div\"])\n",
    "\n",
    "options_df.head()"
   ],
   "metadata": {
    "collapsed": false,
    "pycharm": {
     "name": "#%%\n"
    }
   }
  }
 ],
 "metadata": {
  "kernelspec": {
   "display_name": "Python 3",
   "language": "python",
   "name": "python3"
  },
  "language_info": {
   "codemirror_mode": {
    "name": "ipython",
    "version": 2
   },
   "file_extension": ".py",
   "mimetype": "text/x-python",
   "name": "python",
   "nbconvert_exporter": "python",
   "pygments_lexer": "ipython2",
   "version": "2.7.6"
  }
 },
 "nbformat": 4,
 "nbformat_minor": 0
}