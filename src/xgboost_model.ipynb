{
 "cells": [
  {
   "cell_type": "code",
   "execution_count": 1,
   "metadata": {
    "collapsed": true,
    "pycharm": {
     "name": "#%%\n"
    }
   },
   "outputs": [],
   "source": [
    "from IPython.display import Image\n",
    "import datetime\n",
    "import numpy as np\n",
    "import os\n",
    "import pandas as pd\n",
    "import plotly.graph_objects as go\n",
    "import plotly.io as pio\n",
    "from plotly.subplots import make_subplots\n",
    "import time\n",
    "from option_strats import BullCallSpread\n",
    "\n",
    "# Ensure working directory path is correct\n",
    "while os.path.split(os.getcwd())[-1] != \"Options-Project\":\n",
    "    os.chdir(os.path.dirname(os.getcwd()))\n",
    "\n",
    "# Set plotly theme\n",
    "pio.templates.default = \"ggplot2\""
   ]
  },
  {
   "cell_type": "markdown",
   "source": [
    "### User Defined Variables\n",
    "\n",
    "12 sub-models, representing lags (days): `1`, `5`, `10`, `15`, `20`, `40`, `65` (1/4 year), `90`, `130` (1/2 year), `260` (1 year), `390`, `520`, `780` (3 years)"
   ],
   "metadata": {
    "collapsed": false,
    "pycharm": {
     "name": "#%% md\n"
    }
   }
  },
  {
   "cell_type": "code",
   "execution_count": 2,
   "outputs": [],
   "source": [
    "ticker = \"AAPL\"\n",
    "model_params_path = \"data/model_params/\"\n",
    "adj_close_path = \"data/adj_close/\"\n",
    "dividends_path = \"data/dividends/\"\n",
    "\n",
    "sub_model_lags = [1, 5, 10, 15, 20, 40, 65, 90, 130, 260, 390, 520]\n",
    "train_test_ratio = 0.9\n",
    "kernel_resolution = 100"
   ],
   "metadata": {
    "collapsed": false,
    "pycharm": {
     "name": "#%%\n"
    }
   }
  },
  {
   "cell_type": "markdown",
   "source": [
    "### Load Features Derived From Options"
   ],
   "metadata": {
    "collapsed": false,
    "pycharm": {
     "name": "#%% md\n"
    }
   }
  },
  {
   "cell_type": "code",
   "execution_count": 10,
   "outputs": [
    {
     "name": "stdout",
     "output_type": "stream",
     "text": [
      "Load options parameters - 0.21 seconds\n"
     ]
    }
   ],
   "source": [
    "start_time = time.time()\n",
    "\n",
    "options_params = {}\n",
    "\n",
    "for param_type in [\"Delta\", \"VIX\", \"custom\"]:\n",
    "\n",
    "    param_path = os.path.join(model_params_path, param_type, ticker)\n",
    "    param_list = []\n",
    "\n",
    "    # Sanity check\n",
    "    assert os.path.isdir(param_path), f\"Can't find {param_type} parameters for {ticker}!\"\n",
    "\n",
    "    for file_year in os.listdir(param_path):\n",
    "        # Only take \"param\" type files\n",
    "        if file_year.split(\"_\")[-1] == \"param.csv\":\n",
    "            df = pd.read_csv(os.path.join(param_path, file_year))\n",
    "\n",
    "            # Convert columns to correct format\n",
    "            df[\"date\"] = pd.to_datetime(df[\"date\"]).dt.date\n",
    "\n",
    "            if \"interval\" in df.columns:\n",
    "                df[\"interval\"] = df[\"interval\"].astype(str)\n",
    "\n",
    "            param_list.append(df)\n",
    "\n",
    "    # Concat, flatten, and add to model params\n",
    "    if param_list:\n",
    "        # Concat for all years\n",
    "        df = pd.concat(param_list, ignore_index=True)\n",
    "\n",
    "        # Flatten to \"date\" level\n",
    "        if param_type == \"custom\":\n",
    "            pivot_cols = [\"tag\"]\n",
    "        else:\n",
    "            pivot_cols = [\"tag\", \"interval\"]\n",
    "\n",
    "        df = df.pivot(index=\"date\", columns=pivot_cols)\n",
    "\n",
    "        # Flatten column levels\n",
    "        df.columns = [\"-\".join(col) for col in df.columns.values]\n",
    "\n",
    "        options_params[param_type] = df\n",
    "\n",
    "print(f\"Load options parameters - {round(time.time() - start_time, 2)} seconds\")"
   ],
   "metadata": {
    "collapsed": false,
    "pycharm": {
     "name": "#%%\n"
    }
   }
  },
  {
   "cell_type": "markdown",
   "source": [
    "### Load Treasury Yields"
   ],
   "metadata": {
    "collapsed": false,
    "pycharm": {
     "name": "#%% md\n"
    }
   }
  },
  {
   "cell_type": "code",
   "execution_count": 11,
   "outputs": [
    {
     "name": "stdout",
     "output_type": "stream",
     "text": [
      "Load rate parameters - 0.09 seconds\n"
     ]
    }
   ],
   "source": [
    "start_time = time.time()\n",
    "\n",
    "rates_params = {}\n",
    "\n",
    "for rate_type in [\"1_Month\", \"3_Month\", \"6_Month\", \"1_Year\", \"2_Year\", \"3_Year\", \"5_Year\", \"5_Year_Inflation\"]:\n",
    "    file_path = os.path.join(model_params_path, \"treasury_yields\", f\"{rate_type}.csv\")\n",
    "\n",
    "    df = pd.read_csv(file_path)\n",
    "\n",
    "    # Convert columns to correct format\n",
    "    df[\"date\"] = pd.to_datetime(df[\"date\"]).dt.date\n",
    "\n",
    "    # Rename column since they\n",
    "\n",
    "    rates_params[rate_type] = df[[\"date\", \"continuous rate\"]].rename(\n",
    "        columns={\"continuous rate\": f\"{rate_type.lower()}_rate\"})\n",
    "\n",
    "print(f\"Load rate parameters - {round(time.time() - start_time, 2)} seconds\")"
   ],
   "metadata": {
    "collapsed": false,
    "pycharm": {
     "name": "#%%\n"
    }
   }
  },
  {
   "cell_type": "markdown",
   "source": [
    "### Load Prediction Target"
   ],
   "metadata": {
    "collapsed": false,
    "pycharm": {
     "name": "#%% md\n"
    }
   }
  },
  {
   "cell_type": "code",
   "execution_count": 5,
   "outputs": [],
   "source": [
    "date_close_df = pd.read_csv(os.path.join(adj_close_path, ticker, (ticker + \".csv\")))\n",
    "date_close_df[\"date\"] = pd.to_datetime(date_close_df[\"date\"]).dt.date\n",
    "\n",
    "dividends_df = pd.read_csv(os.path.join(dividends_path, ticker, (ticker + \"_ts.csv\")))\n",
    "dividends_df[\"date\"] = pd.to_datetime(dividends_df[\"date\"]).dt.date\n",
    "\n",
    "date_close_df = date_close_df[[\"date\", \"close\"]].merge(right=dividends_df,\n",
    "                                                       how=\"inner\", on=\"date\")"
   ],
   "metadata": {
    "collapsed": false,
    "pycharm": {
     "name": "#%%\n"
    }
   }
  },
  {
   "cell_type": "markdown",
   "source": [
    "### Preprocess and Combine"
   ],
   "metadata": {
    "collapsed": false,
    "pycharm": {
     "name": "#%% md\n"
    }
   }
  },
  {
   "cell_type": "code",
   "execution_count": 17,
   "outputs": [
    {
     "data": {
      "text/plain": "(4240, 78)"
     },
     "execution_count": 17,
     "metadata": {},
     "output_type": "execute_result"
    }
   ],
   "source": [
    "date_close_df[\"adj_close\"] = date_close_df[\"close\"] - date_close_df[\"dividend\"]\n",
    "\n",
    "params_df = date_close_df[[\"date\", \"adj_close\"]].copy()\n",
    "\n",
    "# Add treasury rates\n",
    "for n in rates_params.keys():\n",
    "    params_df = pd.merge(params_df, rates_params[n],\n",
    "                         how=\"inner\", on=\"date\",\n",
    "                         validate=\"1:1\")\n",
    "\n",
    "# Add options params\n",
    "for m in options_params.keys():\n",
    "    params_df = pd.merge(params_df, options_params[m],\n",
    "                         how=\"inner\", on=\"date\",\n",
    "                         validate=\"1:1\")\n",
    "\n",
    "params_df.shape"
   ],
   "metadata": {
    "collapsed": false,
    "pycharm": {
     "name": "#%%\n"
    }
   }
  },
  {
   "cell_type": "markdown",
   "source": [
    "By doing inner combine on dates with closing prices, treasury yields, and features derived from options, we have a total of **76** features over **4240** days.\n",
    "\n",
    "However, due to missing features for various days (e.g. FRED takes a few more holidays a year than NYSE), and missing options features (unable to derive feature from Delta curve etc.), the actual amount is a bit less."
   ],
   "metadata": {
    "collapsed": false,
    "pycharm": {
     "name": "#%% md\n"
    }
   }
  },
  {
   "cell_type": "code",
   "execution_count": 18,
   "outputs": [
    {
     "data": {
      "text/plain": "(3711, 78)"
     },
     "execution_count": 18,
     "metadata": {},
     "output_type": "execute_result"
    }
   ],
   "source": [
    "params_df.dropna(inplace=True)\n",
    "\n",
    "params_df.shape"
   ],
   "metadata": {
    "collapsed": false,
    "pycharm": {
     "name": "#%%\n"
    }
   }
  }
 ],
 "metadata": {
  "kernelspec": {
   "display_name": "Python 3",
   "language": "python",
   "name": "python3"
  },
  "language_info": {
   "codemirror_mode": {
    "name": "ipython",
    "version": 2
   },
   "file_extension": ".py",
   "mimetype": "text/x-python",
   "name": "python",
   "nbconvert_exporter": "python",
   "pygments_lexer": "ipython2",
   "version": "2.7.6"
  }
 },
 "nbformat": 4,
 "nbformat_minor": 0
}