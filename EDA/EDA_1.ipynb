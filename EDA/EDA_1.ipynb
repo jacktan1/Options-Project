{
 "cells": [
  {
   "cell_type": "markdown",
   "source": [
    "\n",
    "## Exploratory Data Analysis\n",
    "Clean, process, and create new features.\n",
    "\n",
    "Compare change in open interest and volume.\n",
    "\n",
    "**Import required packages & check working directory**"
   ],
   "metadata": {
    "collapsed": false,
    "pycharm": {
     "name": "#%% md\n"
    }
   }
  },
  {
   "cell_type": "code",
   "execution_count": 1,
   "outputs": [],
   "source": [
    "from EDA_fun_multithread import delta_open_interest\n",
    "from EDA_fun_graph import interest_vs_volume, voi_dividends_ts\n",
    "import multiprocessing\n",
    "from multiprocessing.pool import Pool\n",
    "import numpy as np\n",
    "import os\n",
    "import pandas as pd\n",
    "from pathlib import Path\n",
    "\n",
    "# Ensure working directory path is correct\n",
    "if os.getcwd()[-3:] == \"EDA\":\n",
    "    os.chdir(os.path.dirname(os.getcwd()))\n",
    "else:\n",
    "    pass\n"
   ],
   "metadata": {
    "collapsed": false,
    "pycharm": {
     "name": "#%%\n"
    }
   }
  },
  {
   "cell_type": "markdown",
   "source": [
    "**User defined parameters**"
   ],
   "metadata": {
    "collapsed": false,
    "pycharm": {
     "name": "#%% md\n"
    }
   }
  },
  {
   "cell_type": "code",
   "execution_count": 2,
   "outputs": [],
   "source": [
    "ticker = \"AAPL\"\n",
    "adjusted_options_path = f\"data/adjusted_options/{ticker}/\"\n",
    "dividends_path = f\"data/dividends/\"\n",
    "save_path = f\"data/EDA1/{ticker}\"\n"
   ],
   "metadata": {
    "collapsed": false,
    "pycharm": {
     "name": "#%%\n"
    }
   }
  },
  {
   "cell_type": "markdown",
   "source": [
    "**Load adjusted options data**"
   ],
   "metadata": {
    "collapsed": false,
    "pycharm": {
     "name": "#%% md\n"
    }
   }
  },
  {
   "cell_type": "code",
   "execution_count": 3,
   "outputs": [],
   "source": [
    "# Initialize DataFrames\n",
    "complete_df = pd.DataFrame()\n",
    "incomplete_df = pd.DataFrame()\n",
    "\n",
    "# Only get directories\n",
    "for year in next(os.walk(adjusted_options_path))[1]:\n",
    "    for file in os.listdir(os.path.join(adjusted_options_path, year)):\n",
    "        # Load\n",
    "        temp_df = pd.read_csv(os.path.join(os.path.join(adjusted_options_path, year, file)))\n",
    "\n",
    "        # Convert columns to correct format\n",
    "        temp_df[\"date\"] = pd.to_datetime(temp_df[\"date\"]).dt.date\n",
    "        temp_df[\"expiration date\"] = pd.to_datetime(temp_df[\"expiration date\"]).dt.date\n",
    "        temp_df[\"year\"] = int(year)\n",
    "\n",
    "        if file.split(\"_\")[-1] == \"complete.csv\":\n",
    "            complete_df = complete_df.append(temp_df, ignore_index=True)\n",
    "        elif file.split(\"_\")[-1] == \"incomplete.csv\":\n",
    "            incomplete_df = incomplete_df.append(temp_df, ignore_index=True)\n",
    "        else:\n",
    "            continue\n"
   ],
   "metadata": {
    "collapsed": false,
    "pycharm": {
     "name": "#%%\n"
    }
   }
  },
  {
   "cell_type": "markdown",
   "source": [
    "## Feature Engineering"
   ],
   "metadata": {
    "collapsed": false,
    "pycharm": {
     "name": "#%% md\n"
    }
   }
  },
  {
   "cell_type": "markdown",
   "source": [
    "Dividend adjustment: Since all features contain priced-in dividends, we remove them by subtracting pre-calculated dividend contributions, as calculated in [eod_price_and_dividends.py](https://github.com/jacktan1/Options-Project/blob/master/src/eod_price_and_dividends.py).\n",
    "\n",
    "Logic for removing dividends from strike price:\n",
    "Consider a stock paying \\$5 quarterly dividends. It just passed its ex-div date and closed at \\$10. Now to price a \\$15 call option expiring a day before the next ex-div date. Even though it might seem extremely OTM, in reality, it is ATM (10 + 5 = 15)."
   ],
   "metadata": {
    "collapsed": false,
    "pycharm": {
     "name": "#%% md\n"
    }
   }
  },
  {
   "cell_type": "code",
   "execution_count": 4,
   "outputs": [],
   "source": [
    "for n in [{\"df\": complete_df, \"tag\": \"complete\"}, {\"df\": incomplete_df, \"tag\": \"incomplete\"}]:\n",
    "    # Unpack\n",
    "    option_df = n[\"df\"]\n",
    "\n",
    "    # Adjust strike and data date\n",
    "    option_df[\"adj strike\"] = (option_df[\"strike price\"] - option_df[\"exp date div\"]).round(6)\n",
    "    option_df[\"adj date close\"] = (option_df[\"date close\"] - option_df[\"date div\"]).round(6)\n",
    "\n",
    "    # Days until expiry\n",
    "    option_df[\"days till exp\"] = np.busday_count(begindates=list(option_df[\"date\"]),\n",
    "                                                 enddates=list(option_df[\"expiration date\"]))\n",
    "\n",
    "    if n[\"tag\"] == \"complete\":\n",
    "        option_df[\"adj exp close\"] = (option_df[\"exp date close\"] - option_df[\"exp date div\"]).round(6)\n",
    "        complete_df = option_df\n",
    "    elif n[\"tag\"] == \"incomplete\":\n",
    "        incomplete_df = option_df\n"
   ],
   "metadata": {
    "collapsed": false,
    "pycharm": {
     "name": "#%%\n"
    }
   }
  },
  {
   "cell_type": "code",
   "execution_count": 5,
   "outputs": [
    {
     "data": {
      "text/plain": "         date expiration date   tag  strike price  ask price  ask size  \\\n0  2005-01-03      2005-01-21  call      0.089286   1.044643       0.0   \n1  2005-01-03      2005-01-21   put      0.089286   0.000893       0.0   \n2  2005-01-03      2005-01-21  call      0.178571   0.955357       0.0   \n3  2005-01-03      2005-01-21   put      0.178571   0.000893       0.0   \n4  2005-01-03      2005-01-21  call      0.267857   0.866071       0.0   \n\n   bid price  bid size  last price  volume  open interest  date div  \\\n0   1.039286       0.0    1.044643   560.0        48216.0       0.0   \n1   0.000000       0.0    0.000000     0.0        65688.0       0.0   \n2   0.950000       0.0    0.948214     0.0        68320.0       0.0   \n3   0.000000       0.0    0.000893     0.0        57400.0       0.0   \n4   0.860714       0.0    0.891071   560.0       487704.0       0.0   \n\n   exp date div  date close  exp date close  year  adj strike  adj date close  \\\n0           0.0     1.13018         1.25875  2005    0.089286         1.13018   \n1           0.0     1.13018         1.25875  2005    0.089286         1.13018   \n2           0.0     1.13018         1.25875  2005    0.178571         1.13018   \n3           0.0     1.13018         1.25875  2005    0.178571         1.13018   \n4           0.0     1.13018         1.25875  2005    0.267857         1.13018   \n\n   days till exp  adj exp close  \n0             14        1.25875  \n1             14        1.25875  \n2             14        1.25875  \n3             14        1.25875  \n4             14        1.25875  ",
      "text/html": "<div>\n<style scoped>\n    .dataframe tbody tr th:only-of-type {\n        vertical-align: middle;\n    }\n\n    .dataframe tbody tr th {\n        vertical-align: top;\n    }\n\n    .dataframe thead th {\n        text-align: right;\n    }\n</style>\n<table border=\"1\" class=\"dataframe\">\n  <thead>\n    <tr style=\"text-align: right;\">\n      <th></th>\n      <th>date</th>\n      <th>expiration date</th>\n      <th>tag</th>\n      <th>strike price</th>\n      <th>ask price</th>\n      <th>ask size</th>\n      <th>bid price</th>\n      <th>bid size</th>\n      <th>last price</th>\n      <th>volume</th>\n      <th>open interest</th>\n      <th>date div</th>\n      <th>exp date div</th>\n      <th>date close</th>\n      <th>exp date close</th>\n      <th>year</th>\n      <th>adj strike</th>\n      <th>adj date close</th>\n      <th>days till exp</th>\n      <th>adj exp close</th>\n    </tr>\n  </thead>\n  <tbody>\n    <tr>\n      <th>0</th>\n      <td>2005-01-03</td>\n      <td>2005-01-21</td>\n      <td>call</td>\n      <td>0.089286</td>\n      <td>1.044643</td>\n      <td>0.0</td>\n      <td>1.039286</td>\n      <td>0.0</td>\n      <td>1.044643</td>\n      <td>560.0</td>\n      <td>48216.0</td>\n      <td>0.0</td>\n      <td>0.0</td>\n      <td>1.13018</td>\n      <td>1.25875</td>\n      <td>2005</td>\n      <td>0.089286</td>\n      <td>1.13018</td>\n      <td>14</td>\n      <td>1.25875</td>\n    </tr>\n    <tr>\n      <th>1</th>\n      <td>2005-01-03</td>\n      <td>2005-01-21</td>\n      <td>put</td>\n      <td>0.089286</td>\n      <td>0.000893</td>\n      <td>0.0</td>\n      <td>0.000000</td>\n      <td>0.0</td>\n      <td>0.000000</td>\n      <td>0.0</td>\n      <td>65688.0</td>\n      <td>0.0</td>\n      <td>0.0</td>\n      <td>1.13018</td>\n      <td>1.25875</td>\n      <td>2005</td>\n      <td>0.089286</td>\n      <td>1.13018</td>\n      <td>14</td>\n      <td>1.25875</td>\n    </tr>\n    <tr>\n      <th>2</th>\n      <td>2005-01-03</td>\n      <td>2005-01-21</td>\n      <td>call</td>\n      <td>0.178571</td>\n      <td>0.955357</td>\n      <td>0.0</td>\n      <td>0.950000</td>\n      <td>0.0</td>\n      <td>0.948214</td>\n      <td>0.0</td>\n      <td>68320.0</td>\n      <td>0.0</td>\n      <td>0.0</td>\n      <td>1.13018</td>\n      <td>1.25875</td>\n      <td>2005</td>\n      <td>0.178571</td>\n      <td>1.13018</td>\n      <td>14</td>\n      <td>1.25875</td>\n    </tr>\n    <tr>\n      <th>3</th>\n      <td>2005-01-03</td>\n      <td>2005-01-21</td>\n      <td>put</td>\n      <td>0.178571</td>\n      <td>0.000893</td>\n      <td>0.0</td>\n      <td>0.000000</td>\n      <td>0.0</td>\n      <td>0.000893</td>\n      <td>0.0</td>\n      <td>57400.0</td>\n      <td>0.0</td>\n      <td>0.0</td>\n      <td>1.13018</td>\n      <td>1.25875</td>\n      <td>2005</td>\n      <td>0.178571</td>\n      <td>1.13018</td>\n      <td>14</td>\n      <td>1.25875</td>\n    </tr>\n    <tr>\n      <th>4</th>\n      <td>2005-01-03</td>\n      <td>2005-01-21</td>\n      <td>call</td>\n      <td>0.267857</td>\n      <td>0.866071</td>\n      <td>0.0</td>\n      <td>0.860714</td>\n      <td>0.0</td>\n      <td>0.891071</td>\n      <td>560.0</td>\n      <td>487704.0</td>\n      <td>0.0</td>\n      <td>0.0</td>\n      <td>1.13018</td>\n      <td>1.25875</td>\n      <td>2005</td>\n      <td>0.267857</td>\n      <td>1.13018</td>\n      <td>14</td>\n      <td>1.25875</td>\n    </tr>\n  </tbody>\n</table>\n</div>"
     },
     "execution_count": 5,
     "metadata": {},
     "output_type": "execute_result"
    }
   ],
   "source": [
    "complete_df.head()"
   ],
   "metadata": {
    "collapsed": false,
    "pycharm": {
     "name": "#%%\n"
    }
   }
  },
  {
   "cell_type": "markdown",
   "source": [
    "*Definition:*\n",
    "\n",
    "**breakeven** - the price movement a ticker must undergo for a listed option to accumulate no gain or loss at expiry. In other words:\n",
    "\n",
    "Calls: $ breakeven = adj~strike + ask/bid~price - adj~date~close$\n",
    "\n",
    "Puts: $ breakeven = adj~strike - ask/bid~price - adj~closing$\n",
    "\n",
    "*Example:* Ticker `ABC` closes at \\$100. For a \\$90 call option priced at \\$15 to \"breakeven\", it will need to move: \\$90 + \\$15 - \\$100 = \\$5.\n",
    "\n",
    "However, since the theta (time premium) for near-expiry options are so low already, the inferred difference in priced-in dividends may be greater than the theta. As a result, removing dividends will cause the option to be profitable at purchase.\n",
    "   - This occurs more if \"bid price\" is used, as \"bid theta\" is lower than \"ask theta\".\n",
    "\n",
    "*Example:* Say we have a high yield ticker `ABC` with an option expiring in 5 days. The theoretical amount of priced-in dividend today is \\$9, with the amount increasing to \\$10 on date of expiry. However, the theta premium for an ATM call option today may only cost \\$0.7. This results in a net profit of \\$0.3 per share at purchase if we remove dividends.\n",
    "\n",
    "**moneyness** - How in the money or out of the money an option is.\n",
    "\n",
    "Only ask price will be used."
   ],
   "metadata": {
    "collapsed": false,
    "pycharm": {
     "name": "#%% md\n"
    }
   }
  },
  {
   "cell_type": "code",
   "execution_count": 6,
   "outputs": [],
   "source": [
    "for n in [{\"df\": complete_df, \"tag\": \"complete\"}, {\"df\": incomplete_df, \"tag\": \"incomplete\"}]:\n",
    "    # Unpack\n",
    "    temp_df = n[\"df\"]\n",
    "\n",
    "    calls_df = temp_df[temp_df[\"tag\"] == \"call\"].copy()\n",
    "    puts_df = temp_df[temp_df[\"tag\"] == \"put\"].copy()\n",
    "\n",
    "    calls_df[\"adj breakeven\"] = (calls_df[\"adj strike\"] + calls_df[\"ask price\"] -\n",
    "                                 calls_df[\"adj date close\"]).round(6)\n",
    "    calls_df[\"raw breakeven\"] = (calls_df[\"strike price\"] + calls_df[\"ask price\"] -\n",
    "                                 calls_df[\"date close\"]).round(6)\n",
    "\n",
    "    puts_df[\"adj breakeven\"] = (puts_df[\"adj strike\"] - puts_df[\"ask price\"] -\n",
    "                                puts_df[\"adj date close\"]).round(6)\n",
    "    puts_df[\"raw breakeven\"] = (puts_df[\"strike price\"] - puts_df[\"ask price\"] -\n",
    "                                puts_df[\"date close\"]).round(6)\n",
    "\n",
    "    calls_df[\"adj moneyness\"] = (calls_df[\"adj date close\"] - calls_df[\"adj strike\"]).round(6)\n",
    "\n",
    "    puts_df[\"adj moneyness\"] = (puts_df[\"adj strike\"] - puts_df[\"adj date close\"]).round(6)\n",
    "\n",
    "    combined_df = calls_df.append(puts_df)\n",
    "\n",
    "    if n[\"tag\"] == \"complete\":\n",
    "        # Sanity check\n",
    "        assert complete_df.shape[0] == combined_df.shape[0], f\"Number of rows shouldn't change! (type: {n['tag']})\"\n",
    "        complete_df = combined_df\n",
    "    elif n[\"tag\"] == \"incomplete\":\n",
    "        # Sanity check\n",
    "        assert incomplete_df.shape[0] == combined_df.shape[0], f\"Number of rows shouldn't change! (type: {n['tag']})\"\n",
    "        incomplete_df = combined_df\n"
   ],
   "metadata": {
    "collapsed": false,
    "pycharm": {
     "name": "#%%\n"
    }
   }
  },
  {
   "cell_type": "markdown",
   "source": [
    "**\"open interest\" vs. \"volume\"**\n",
    "\n",
    "By definition, open interest is the number of open contracts recorded at closing. Volume, on the other hand, is the number of contracts that was traded within that day. Therefore, the volume of an option on day `n+1` should be greater or equal to the change in open interest from day `n` and day `n+1` (unless the option has been exercised).\n",
    "\n",
    "To do this, we need to compare the relationship between absolute change in open interest and the volume recorded on neighbouring days, to see if the above is true.\n",
    "\n",
    "First, we calculate the change in open interest between neighbouring days. The returned DataFrame differs in two ways:\n",
    "   1. Filters out options that expire that very day (there is no tomorrow to observe change)\n",
    "   2. Filters out options of the last day in entire dataset (no tomorrow to compare with)\n"
   ],
   "metadata": {
    "collapsed": false,
    "pycharm": {
     "name": "#%% md\n"
    }
   }
  },
  {
   "cell_type": "code",
   "execution_count": 7,
   "outputs": [
    {
     "name": "stdout",
     "output_type": "stream",
     "text": [
      "Processing -> (year: 2005, type: complete)\n",
      "WARNING: Exp date: 2006-01-20 options are missing from 2005-02-16 (previously present on 2005-02-15)\n",
      "WARNING: Exp date: 2007-01-19 options are missing from 2005-02-16 (previously present on 2005-02-15)\n",
      "Processing -> (year: 2006, type: complete)\n",
      "WARNING: Gap between 2006-12-29 and 2007-01-03 is greater than 2 business days!\n",
      "Processing -> (year: 2007, type: complete)\n",
      "WARNING: Exp date: 2010-01-15 options are missing from 2007-06-26 (previously present on 2007-06-25)\n",
      "Processing -> (year: 2008, type: complete)\n",
      "Processing -> (year: 2009, type: complete)\n",
      "Processing -> (year: 2010, type: complete)\n",
      "Processing -> (year: 2011, type: complete)\n",
      "Processing -> (year: 2012, type: complete)\n",
      "WARNING: Gap between 2012-10-26 and 2012-10-31 is greater than 2 business days!\n",
      "Processing -> (year: 2013, type: complete)\n",
      "Processing -> (year: 2014, type: complete)\n",
      "Processing -> (year: 2015, type: complete)\n",
      "Processing -> (year: 2016, type: complete)\n",
      "Processing -> (year: 2017, type: complete)\n",
      "Processing -> (year: 2018, type: complete)\n",
      "Processing -> (year: 2019, type: complete)\n",
      "Processing -> (year: 2020, type: complete)\n",
      "WARNING: Exp date: 2020-07-02 options are missing from 2020-07-02 (previously present on 2020-07-01)\n",
      "WARNING: Exp date: 2020-09-18 options are missing from 2020-09-18 (previously present on 2020-09-17)\n",
      "WARNING: Exp date: 2020-10-02 options are missing from 2020-10-02 (previously present on 2020-10-01)\n",
      "Processing -> (year: 2021, type: complete)\n",
      "Processing -> (year: 2019, type: incomplete)\n",
      "Processing -> (year: 2020, type: incomplete)\n",
      "Processing -> (year: 2021, type: incomplete)\n"
     ]
    }
   ],
   "source": [
    "voi_complete = pd.DataFrame()\n",
    "voi_incomplete = pd.DataFrame()\n",
    "my_pool = Pool(multiprocessing.cpu_count())\n",
    "\n",
    "for n in [{\"df\": complete_df, \"tag\": \"complete\"}, {\"df\": incomplete_df, \"tag\": \"incomplete\"}]:\n",
    "    # Bookkeeping variables\n",
    "    agg_df = pd.DataFrame()\n",
    "    input_list = []\n",
    "\n",
    "    # Unpack\n",
    "    options_df = n[\"df\"]\n",
    "    year_list = sorted(set(options_df[\"year\"]))\n",
    "\n",
    "    for year in year_list:\n",
    "        print(f\"Processing -> (year: {year}, type: {n['tag']})\")\n",
    "        # Bookkeeping variables\n",
    "        agg_year_df = pd.DataFrame()\n",
    "        input_list = []\n",
    "\n",
    "        options_year_df = options_df[options_df[\"year\"] == year].copy()\n",
    "        data_dates = sorted(set(options_year_df[\"date\"]))\n",
    "\n",
    "        for date_1 in data_dates:\n",
    "            # Find the following date\n",
    "            try:\n",
    "                date_2 = np.min([n for n in data_dates if n > date_1])\n",
    "            except ValueError:\n",
    "                # Get first date of next year\n",
    "                if year < np.max(year_list):\n",
    "                    date_2 = np.min(options_df[options_df[\"year\"] == (year + 1)][\"date\"])\n",
    "                # If no next year, just skip\n",
    "                else:\n",
    "                    continue\n",
    "\n",
    "            # Sanity check\n",
    "            if np.busday_count(date_1, date_2) > 2:\n",
    "                print(f\"WARNING: Gap between {date_1} and {date_2} is greater than 2 business days!\")\n",
    "\n",
    "            # Get option spreads for the two dates\n",
    "            if date_1.year == date_2.year:\n",
    "                input_options_df = options_year_df[options_year_df[\"date\"].isin([date_1, date_2])][\n",
    "                    [\"year\", \"date\", \"expiration date\", \"tag\",\n",
    "                     \"adj strike\", \"open interest\", \"volume\"]]\n",
    "            else:\n",
    "                input_options_df = options_df[options_df[\"date\"].isin([date_1, date_2])][\n",
    "                    [\"year\", \"date\", \"expiration date\", \"tag\",\n",
    "                     \"adj strike\", \"open interest\", \"volume\"]]\n",
    "\n",
    "            input_list.append({\"df\": input_options_df, \"former date\": date_1, \"latter date\": date_2, \"year\": year})\n",
    "\n",
    "        # Finished aggregating date pairs for year\n",
    "        results_list = my_pool.map(delta_open_interest, input_list)\n",
    "\n",
    "        for result in results_list:\n",
    "            for msg in result[\"messages\"]:\n",
    "                print(msg)\n",
    "\n",
    "        # Append daily results into year df\n",
    "        agg_year_df = pd.concat([n[\"df\"] for n in results_list], axis=0, ignore_index=True)\n",
    "\n",
    "        # Append year results into complete df\n",
    "        agg_df = agg_df.append(agg_year_df)\n",
    "\n",
    "    # Sort\n",
    "    agg_df.sort_values(by=[\"date\", \"expiration date\", \"adj strike\", \"tag\"],\n",
    "                       inplace=True, ignore_index=True)\n",
    "\n",
    "    if n[\"tag\"] == \"complete\":\n",
    "        voi_complete = agg_df\n",
    "    elif n[\"tag\"] == \"incomplete\":\n",
    "        voi_incomplete = agg_df\n"
   ],
   "metadata": {
    "collapsed": false,
    "pycharm": {
     "name": "#%%\n"
    }
   }
  },
  {
   "cell_type": "markdown",
   "source": [
    "## Below cells only to see difference between delta open interest and volume"
   ],
   "metadata": {
    "collapsed": false,
    "pycharm": {
     "name": "#%% md\n"
    }
   }
  },
  {
   "cell_type": "markdown",
   "source": [
    "Remove options that have no volume and no change in open interest since they do not tell us anything.\n",
    "\n",
    "Attach sample from uniform distribution (any works) to allow for random sampling."
   ],
   "metadata": {
    "collapsed": false,
    "pycharm": {
     "name": "#%% md\n"
    }
   }
  },
  {
   "cell_type": "code",
   "execution_count": 8,
   "outputs": [],
   "source": [
    "voi_complete_lite = pd.DataFrame()\n",
    "\n",
    "for n in [{\"df\": voi_complete, \"tag\": \"complete\"}]:\n",
    "    temp_df = n[\"df\"].copy()\n",
    "    temp_df = temp_df[(temp_df[\"volume 1\"] + temp_df[\"volume 2\"] + temp_df[\"abs delta\"]) != 0]\n",
    "    temp_df[\"rand\"] = np.random.uniform(0, 1, temp_df.shape[0])\n",
    "    # This is the randomization step\n",
    "    temp_df.sort_values(by=\"rand\", inplace=True)\n",
    "    # So .iloc can be used\n",
    "    temp_df.reset_index(drop=True, inplace=True)\n",
    "\n",
    "    if n[\"tag\"] == \"complete\":\n",
    "        voi_complete_lite = temp_df\n"
   ],
   "metadata": {
    "collapsed": false,
    "pycharm": {
     "name": "#%%\n"
    }
   }
  },
  {
   "cell_type": "markdown",
   "source": [
    "Plot |change in \"open interest\"| vs. \"volume\"\n",
    "\n",
    "We also plot the line `y = x` ($Volume = \\Delta Open~Interest$). As mentioned before, volume should always be greater or equal to the change in open interest, never less than (except in the case of option exercise, which shouldn't happen as much as trading). So anything \"below\" this line can be considered \"erroneous\".\n",
    "\n",
    "Only completed options are plotted, as incomplete options would yield similar results."
   ],
   "metadata": {
    "collapsed": false,
    "pycharm": {
     "name": "#%% md\n"
    }
   }
  },
  {
   "cell_type": "code",
   "execution_count": 9,
   "outputs": [],
   "source": [
    "# Select n samples from each of calls and puts to plot\n",
    "number_points = 10000\n",
    "\n",
    "interest_vs_volume_fig = interest_vs_volume(input_dict={\"complete\": voi_complete_lite.iloc[:number_points, :]})\n",
    "\n",
    "interest_vs_volume_fig.write_image(\"./img/EDA1_volume_vs_interest.svg\", width=1200, height=600)"
   ],
   "metadata": {
    "collapsed": false,
    "pycharm": {
     "name": "#%%\n"
    }
   }
  },
  {
   "cell_type": "markdown",
   "source": [
    "![Volume vs delta open interest](../img/EDA1_volume_vs_interest.svg)"
   ],
   "metadata": {
    "collapsed": false,
    "pycharm": {
     "name": "#%% md\n"
    }
   }
  },
  {
   "cell_type": "markdown",
   "source": [
    "Percentage of total points under the line."
   ],
   "metadata": {
    "collapsed": false,
    "pycharm": {
     "name": "#%% md\n"
    }
   }
  },
  {
   "cell_type": "code",
   "execution_count": 11,
   "outputs": [
    {
     "data": {
      "text/plain": "    Year  Day n error rate  Day n+1 error rate\n0   2005          0.137885            0.367895\n1   2006          0.051043            0.293278\n2   2007          0.039911            0.253286\n3   2008          0.047783            0.258958\n4   2009          0.047652            0.286984\n5   2010          0.043272            0.266920\n6   2011          0.018583            0.259888\n7   2012          0.037530            0.282349\n8   2013          0.034293            0.284740\n9   2014          0.050432            0.302680\n10  2015          0.021328            0.276190\n11  2016          0.015709            0.289293\n12  2017          0.025978            0.303061\n13  2018          0.047544            0.294444\n14  2019          0.025351            0.279062\n15  2020          0.033038            0.254229\n16  2021          0.043180            0.261234",
      "text/html": "<div>\n<style scoped>\n    .dataframe tbody tr th:only-of-type {\n        vertical-align: middle;\n    }\n\n    .dataframe tbody tr th {\n        vertical-align: top;\n    }\n\n    .dataframe thead th {\n        text-align: right;\n    }\n</style>\n<table border=\"1\" class=\"dataframe\">\n  <thead>\n    <tr style=\"text-align: right;\">\n      <th></th>\n      <th>Year</th>\n      <th>Day n error rate</th>\n      <th>Day n+1 error rate</th>\n    </tr>\n  </thead>\n  <tbody>\n    <tr>\n      <th>0</th>\n      <td>2005</td>\n      <td>0.137885</td>\n      <td>0.367895</td>\n    </tr>\n    <tr>\n      <th>1</th>\n      <td>2006</td>\n      <td>0.051043</td>\n      <td>0.293278</td>\n    </tr>\n    <tr>\n      <th>2</th>\n      <td>2007</td>\n      <td>0.039911</td>\n      <td>0.253286</td>\n    </tr>\n    <tr>\n      <th>3</th>\n      <td>2008</td>\n      <td>0.047783</td>\n      <td>0.258958</td>\n    </tr>\n    <tr>\n      <th>4</th>\n      <td>2009</td>\n      <td>0.047652</td>\n      <td>0.286984</td>\n    </tr>\n    <tr>\n      <th>5</th>\n      <td>2010</td>\n      <td>0.043272</td>\n      <td>0.266920</td>\n    </tr>\n    <tr>\n      <th>6</th>\n      <td>2011</td>\n      <td>0.018583</td>\n      <td>0.259888</td>\n    </tr>\n    <tr>\n      <th>7</th>\n      <td>2012</td>\n      <td>0.037530</td>\n      <td>0.282349</td>\n    </tr>\n    <tr>\n      <th>8</th>\n      <td>2013</td>\n      <td>0.034293</td>\n      <td>0.284740</td>\n    </tr>\n    <tr>\n      <th>9</th>\n      <td>2014</td>\n      <td>0.050432</td>\n      <td>0.302680</td>\n    </tr>\n    <tr>\n      <th>10</th>\n      <td>2015</td>\n      <td>0.021328</td>\n      <td>0.276190</td>\n    </tr>\n    <tr>\n      <th>11</th>\n      <td>2016</td>\n      <td>0.015709</td>\n      <td>0.289293</td>\n    </tr>\n    <tr>\n      <th>12</th>\n      <td>2017</td>\n      <td>0.025978</td>\n      <td>0.303061</td>\n    </tr>\n    <tr>\n      <th>13</th>\n      <td>2018</td>\n      <td>0.047544</td>\n      <td>0.294444</td>\n    </tr>\n    <tr>\n      <th>14</th>\n      <td>2019</td>\n      <td>0.025351</td>\n      <td>0.279062</td>\n    </tr>\n    <tr>\n      <th>15</th>\n      <td>2020</td>\n      <td>0.033038</td>\n      <td>0.254229</td>\n    </tr>\n    <tr>\n      <th>16</th>\n      <td>2021</td>\n      <td>0.043180</td>\n      <td>0.261234</td>\n    </tr>\n  </tbody>\n</table>\n</div>"
     },
     "execution_count": 11,
     "metadata": {},
     "output_type": "execute_result"
    }
   ],
   "source": [
    "error_df = pd.DataFrame()\n",
    "\n",
    "for year in sorted(set(voi_complete_lite[\"year\"])):\n",
    "    year_df = voi_complete_lite[voi_complete_lite[\"year\"] == year].copy()\n",
    "\n",
    "    n1_error_rate = year_df[year_df[\"abs delta\"] > year_df[\"volume 1\"]].shape[0] / year_df.shape[0]\n",
    "    n2_error_rate = year_df[year_df[\"abs delta\"] > year_df[\"volume 2\"]].shape[0] / year_df.shape[0]\n",
    "\n",
    "    error_df = error_df.append(pd.DataFrame([[year, n1_error_rate, n2_error_rate]]))\n",
    "\n",
    "error_df.columns = [\"Year\", \"Day n error rate\", \"Day n+1 error rate\"]\n",
    "\n",
    "error_df.reset_index(drop=True, inplace=True)\n",
    "\n",
    "error_df"
   ],
   "metadata": {
    "collapsed": false,
    "pycharm": {
     "name": "#%%\n"
    }
   }
  },
  {
   "cell_type": "markdown",
   "source": [
    "The error rate when comparing |Delta open interest| with current day's (`n`) volume is much lower than when comparing with next day's (`n+1`)\n",
    "\n",
    "This implies that open interest is recorded at the **start of day** (if volume is accurate, and not lagged by a day etc.)\n",
    "\n",
    "Change in open interest is used as indicator of option movement as opposed volume for two reasons\n",
    "   - Volume does not have direction\n",
    "   - Volume can be arbitrarily inflated\n",
    "\n",
    "Note that change in open interest is the sum of market transactions and exercises, the two of which we are unable to distinguish systematically. It could be true that many of the \"errors\" that occurred when comparing day `n` volume and open interest could be due to this."
   ],
   "metadata": {
    "collapsed": false,
    "pycharm": {
     "name": "#%% md\n"
    }
   }
  },
  {
   "cell_type": "markdown",
   "source": [
    "## Feature Engineering Cont'd"
   ],
   "metadata": {
    "collapsed": false,
    "pycharm": {
     "name": "#%% md\n"
    }
   }
  },
  {
   "cell_type": "markdown",
   "source": [
    "Using the above conclusion:\n",
    "   1. Adjust feature \"open interest\" to reflect \"end of day open interest\"\n",
    "   2. Add \"delta open interest\" feature\n",
    "\n",
    "Some additional engineered features:\n",
    "   1. `ask er`: `ask price` * `delta interest`\n",
    "   2. `sign` - the sign of `delta interest`"
   ],
   "metadata": {
    "collapsed": false,
    "pycharm": {
     "name": "#%% md\n"
    }
   }
  },
  {
   "cell_type": "code",
   "execution_count": 12,
   "outputs": [],
   "source": [
    "# Final Dataframes (\"year\" to be removed later)\n",
    "complete_combined_df = pd.DataFrame()\n",
    "incomplete_combined_df = pd.DataFrame()\n",
    "\n",
    "for n in [{\"df1\": complete_df, \"df2\": voi_complete, \"tag\": \"complete\"},\n",
    "          {\"df1\": incomplete_df, \"df2\": voi_incomplete, \"tag\": \"incomplete\"}]:\n",
    "    # Merge\n",
    "    temp_df = n[\"df1\"].merge(\n",
    "        n[\"df2\"][[\"date\", \"expiration date\", \"tag\", \"adj strike\", \"open interest 2\", \"delta interest\"]],\n",
    "        how=\"inner\", on=[\"date\", \"expiration date\", \"tag\", \"adj strike\"],\n",
    "        validate=\"1:1\")\n",
    "\n",
    "    # Add additional features here\n",
    "    temp_df[\"price spread\"] = (temp_df[\"ask price\"] - temp_df[\"bid price\"]).round(6)\n",
    "\n",
    "    temp_df[\"ask er\"] = (temp_df[\"ask price\"] * temp_df[\"delta interest\"]).round(6)\n",
    "\n",
    "    temp_df[\"delta sign\"] = np.sign(temp_df[\"delta interest\"])\n",
    "\n",
    "    # Columns to save\n",
    "    save_columns = [\"date\", \"expiration date\", \"days till exp\", \"adj strike\",\n",
    "                    \"tag\", \"ask price\", \"price spread\",\n",
    "                    \"volume\", \"open interest 2\", \"delta interest\",\n",
    "                    \"adj moneyness\", \"adj breakeven\",\n",
    "                    \"ask er\", \"delta sign\",\n",
    "                    \"adj date close\", \"year\"]\n",
    "\n",
    "    if n[\"tag\"] == \"complete\":\n",
    "        save_columns.append(\"adj exp close\")\n",
    "\n",
    "    temp_df = temp_df[save_columns]\n",
    "\n",
    "    temp_df.rename(columns={\"open interest 2\": \"EOD open interest\"}, inplace=True)\n",
    "\n",
    "    temp_df.sort_values(by=[\"date\", \"expiration date\", \"adj strike\", \"tag\"],\n",
    "                        inplace=True, ignore_index=True)\n",
    "\n",
    "    if n[\"tag\"] == \"complete\":\n",
    "        complete_combined_df = temp_df\n",
    "    elif n[\"tag\"] == \"incomplete\":\n",
    "        incomplete_combined_df = temp_df\n"
   ],
   "metadata": {
    "collapsed": false,
    "pycharm": {
     "name": "#%%\n"
    }
   }
  },
  {
   "cell_type": "markdown",
   "source": [
    "## Below cells only to see volume of options vs. time"
   ],
   "metadata": {
    "collapsed": false,
    "pycharm": {
     "name": "#%% md\n"
    }
   }
  },
  {
   "cell_type": "markdown",
   "source": [
    "Visualization of volume and |delta open interest| vs time.\n",
    "\n",
    "Only done on \"complete\" options. \"Incomplete\" should not be statistically different.\n",
    "\n",
    "**Black vertical lines indicate ex-dividend dates**"
   ],
   "metadata": {
    "collapsed": false,
    "pycharm": {
     "name": "#%% md\n"
    }
   }
  },
  {
   "cell_type": "code",
   "execution_count": 14,
   "outputs": [],
   "source": [
    "# Aggregate delta open interest and volume data\n",
    "voi_dividends_df = complete_combined_df[[\"date\", \"year\", \"volume\", \"delta interest\"]].copy()\n",
    "voi_dividends_df['abs delta'] = np.abs(voi_dividends_df[\"delta interest\"])\n",
    "\n",
    "voi_dividends_df = voi_dividends_df.groupby([\"year\", \"date\"])[[\"volume\", \"abs delta\"]].agg(\"sum\").reset_index()\n",
    "\n",
    "# Load dividend time series\n",
    "dividends_df = pd.read_csv(os.path.join(dividends_path, f\"{ticker}.csv\"))\n",
    "\n",
    "dividends_df[\"div start\"] = pd.to_datetime(dividends_df[\"div start\"]).dt.date\n",
    "\n",
    "dividends_df = dividends_df[[\"div start\"]]\n"
   ],
   "metadata": {
    "collapsed": false,
    "pycharm": {
     "name": "#%%\n"
    }
   }
  },
  {
   "cell_type": "markdown",
   "source": [
    "We notice that some days have total of 0 |delta open interest|. They are most likely errors in recording open interest.\n",
    "\n",
    "Step-like fashion of it's value further suggests this."
   ],
   "metadata": {
    "collapsed": false,
    "pycharm": {
     "name": "#%% md\n"
    }
   }
  },
  {
   "cell_type": "code",
   "execution_count": 15,
   "outputs": [
    {
     "data": {
      "text/plain": "     year        date     volume  abs delta\n346  2006  2006-05-22  2201472.0        0.0\n349  2006  2006-05-25  1419460.0        0.0\n452  2006  2006-10-20  2467528.0        0.0\n874  2008  2008-06-26  7580160.0        0.0",
      "text/html": "<div>\n<style scoped>\n    .dataframe tbody tr th:only-of-type {\n        vertical-align: middle;\n    }\n\n    .dataframe tbody tr th {\n        vertical-align: top;\n    }\n\n    .dataframe thead th {\n        text-align: right;\n    }\n</style>\n<table border=\"1\" class=\"dataframe\">\n  <thead>\n    <tr style=\"text-align: right;\">\n      <th></th>\n      <th>year</th>\n      <th>date</th>\n      <th>volume</th>\n      <th>abs delta</th>\n    </tr>\n  </thead>\n  <tbody>\n    <tr>\n      <th>346</th>\n      <td>2006</td>\n      <td>2006-05-22</td>\n      <td>2201472.0</td>\n      <td>0.0</td>\n    </tr>\n    <tr>\n      <th>349</th>\n      <td>2006</td>\n      <td>2006-05-25</td>\n      <td>1419460.0</td>\n      <td>0.0</td>\n    </tr>\n    <tr>\n      <th>452</th>\n      <td>2006</td>\n      <td>2006-10-20</td>\n      <td>2467528.0</td>\n      <td>0.0</td>\n    </tr>\n    <tr>\n      <th>874</th>\n      <td>2008</td>\n      <td>2008-06-26</td>\n      <td>7580160.0</td>\n      <td>0.0</td>\n    </tr>\n  </tbody>\n</table>\n</div>"
     },
     "execution_count": 15,
     "metadata": {},
     "output_type": "execute_result"
    }
   ],
   "source": [
    "voi_dividends_df[voi_dividends_df[\"abs delta\"] < 1000]"
   ],
   "metadata": {
    "collapsed": false,
    "pycharm": {
     "name": "#%%\n"
    }
   }
  },
  {
   "cell_type": "code",
   "execution_count": 16,
   "outputs": [],
   "source": [
    "voi_dividends_fig = voi_dividends_ts({\"min year\": 2005, \"max year\": 2021,\n",
    "                                      \"voi agg\": voi_dividends_df, \"dividends\": dividends_df})\n",
    "\n",
    "voi_dividends_fig.write_image(\"./img/EDA1_voi_dividends_ts.svg\", width=1800, height=800)"
   ],
   "metadata": {
    "collapsed": false,
    "pycharm": {
     "name": "#%%\n"
    }
   }
  },
  {
   "cell_type": "markdown",
   "source": [
    "|Delta open interest| plot uses a minimum y-value of the next highest recording > 0 so that plot isn't too skewed.\n",
    "\n",
    "![Volume vs delta open interest](../img/EDA1_voi_dividends_ts.svg)"
   ],
   "metadata": {
    "collapsed": false,
    "pycharm": {
     "name": "#%% md\n"
    }
   }
  },
  {
   "cell_type": "markdown",
   "source": [
    "## Export data from above"
   ],
   "metadata": {
    "collapsed": false,
    "pycharm": {
     "name": "#%% md\n"
    }
   }
  },
  {
   "cell_type": "code",
   "execution_count": 19,
   "outputs": [],
   "source": [
    "years_list = sorted(set(complete_combined_df[\"year\"]) | set(incomplete_combined_df[\"year\"]))\n",
    "\n",
    "for year in years_list:\n",
    "    year_save_path = os.path.join(save_path, str(year))\n",
    "    Path(year_save_path).mkdir(parents=True, exist_ok=True)\n",
    "\n",
    "    temp_complete_df = complete_combined_df[complete_combined_df[\"year\"] == year].copy()\n",
    "    temp_incomplete_df = incomplete_combined_df[incomplete_combined_df[\"year\"] == year].copy()\n",
    "\n",
    "    temp_complete_df.drop(columns=\"year\", inplace=True)\n",
    "    temp_incomplete_df.drop(columns=\"year\", inplace=True)\n",
    "\n",
    "    if temp_complete_df.shape[0] > 0:\n",
    "        temp_complete_df.to_csv(\n",
    "            path_or_buf=os.path.join(save_path, str(year), f\"EDA1_{ticker}_{year}_complete.csv\"),\n",
    "            index=False)\n",
    "\n",
    "    if temp_incomplete_df.shape[0] > 0:\n",
    "        temp_incomplete_df.to_csv(\n",
    "            path_or_buf=os.path.join(save_path, str(year), f\"EDA1_{ticker}_{year}_incomplete.csv\"),\n",
    "            index=False)\n"
   ],
   "metadata": {
    "collapsed": false,
    "pycharm": {
     "name": "#%%\n"
    }
   }
  }
 ],
 "metadata": {
  "kernelspec": {
   "display_name": "Python 3",
   "language": "python",
   "name": "python3"
  },
  "language_info": {
   "codemirror_mode": {
    "name": "ipython",
    "version": 2
   },
   "file_extension": ".py",
   "mimetype": "text/x-python",
   "name": "python",
   "nbconvert_exporter": "python",
   "pygments_lexer": "ipython2",
   "version": "2.7.6"
  }
 },
 "nbformat": 4,
 "nbformat_minor": 0
}